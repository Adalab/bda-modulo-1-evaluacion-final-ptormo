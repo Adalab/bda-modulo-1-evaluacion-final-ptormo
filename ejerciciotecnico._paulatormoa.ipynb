{
 "cells": [
  {
   "cell_type": "code",
   "execution_count": 19,
   "id": "ca746d5c",
   "metadata": {},
   "outputs": [],
   "source": [
    "class TiendaOnline:\n",
    "    def __init__(self):\n",
    "\n",
    "        self.inventario = []\n",
    "        self.ventas_totales = 0\n",
    "        \n",
    "    def agregar_productos(self,nombre, precio, cantidad):\n",
    "        \n",
    "        for producto in self.inventario:\n",
    "            if producto[\"nombre\"] == nombre:\n",
    "                producto[\"cantidad\"] += cantidad\n",
    "                print(f\"El producto {producto} ya existe, se ha actualizado a una cantidad de {producto[\"cantidad\"]}\")\n",
    "            break # si encuentra el producto que se pare\n",
    "        else:\n",
    "            producto_nuevo = {\"nombre\": nombre, \"precio\": precio, \"cantidad\": cantidad}\n",
    "            self.inventario.append(producto_nuevo)\n",
    "            print(f\"El producto {producto_nuevo} ha sido añadido con éxito con una cantidad de {cantidad} y un precio de {precio}\")\n",
    "    \n",
    "    def ver_inventario(self):\n",
    "\n",
    "        for producto in self.inventario:\n",
    "            print(f\"Nombre: {producto[\"nombre\"]}, precio: {producto[\"precio\"]}, cantidad {producto[\"cantidad\"]}\")\n",
    "\n",
    "\n",
    "        "
   ]
  },
  {
   "cell_type": "code",
   "execution_count": 20,
   "id": "fb71261e",
   "metadata": {},
   "outputs": [],
   "source": [
    "tienda = TiendaOnline()"
   ]
  },
  {
   "cell_type": "code",
   "execution_count": 21,
   "id": "5808677b",
   "metadata": {},
   "outputs": [
    {
     "name": "stdout",
     "output_type": "stream",
     "text": [
      "El producto {'nombre': 'ordenador', 'precio': 600, 'cantidad': 4} ha sido añadido con éxito con una cantidad de 4 y un precio de 600\n"
     ]
    }
   ],
   "source": [
    "tienda.agregar_productos(\"ordenador\",600,4)"
   ]
  },
  {
   "cell_type": "code",
   "execution_count": 22,
   "id": "0fa1f1a1",
   "metadata": {},
   "outputs": [
    {
     "data": {
      "text/plain": [
       "{'inventario': [{'nombre': 'ordenador', 'precio': 600, 'cantidad': 4}],\n",
       " 'ventas_totales': 0}"
      ]
     },
     "execution_count": 22,
     "metadata": {},
     "output_type": "execute_result"
    }
   ],
   "source": [
    "tienda.__dict__"
   ]
  },
  {
   "cell_type": "code",
   "execution_count": null,
   "id": "9f69c306",
   "metadata": {},
   "outputs": [
    {
     "ename": "NameError",
     "evalue": "name 'agregar_productos' is not defined",
     "output_type": "error",
     "traceback": [
      "\u001b[1;31m---------------------------------------------------------------------------\u001b[0m",
      "\u001b[1;31mNameError\u001b[0m                                 Traceback (most recent call last)",
      "Cell \u001b[1;32mIn[15], line 1\u001b[0m\n\u001b[1;32m----> 1\u001b[0m agregar_productos(\u001b[38;5;124m\"\u001b[39m\u001b[38;5;124mordenador\u001b[39m\u001b[38;5;124m\"\u001b[39m,\u001b[38;5;241m6\u001b[39m, \u001b[38;5;241m5\u001b[39m)\n",
      "\u001b[1;31mNameError\u001b[0m: name 'agregar_productos' is not defined"
     ]
    }
   ],
   "source": []
  }
 ],
 "metadata": {
  "kernelspec": {
   "display_name": "base",
   "language": "python",
   "name": "python3"
  },
  "language_info": {
   "codemirror_mode": {
    "name": "ipython",
    "version": 3
   },
   "file_extension": ".py",
   "mimetype": "text/x-python",
   "name": "python",
   "nbconvert_exporter": "python",
   "pygments_lexer": "ipython3",
   "version": "3.12.7"
  }
 },
 "nbformat": 4,
 "nbformat_minor": 5
}
