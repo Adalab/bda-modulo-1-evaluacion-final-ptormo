{
 "cells": [
  {
   "cell_type": "code",
   "execution_count": 61,
   "id": "ca746d5c",
   "metadata": {},
   "outputs": [],
   "source": [
    "class TiendaOnline:\n",
    "    def __init__(self):\n",
    "\n",
    "        self.inventario = []\n",
    "        self.ventas_totales = 0.0 #pedían un valor float\n",
    "        \n",
    "\n",
    "    def agregar_productos(self,nombre, precio, cantidad):\n",
    "       \n",
    "       \"\"\" Esta función es para agregar productos a nuestro inventario vacío en orden: nombre, precio,cantidad.Si existe,\n",
    "       lo actualiza y si no exites, lo crea.   \"\"\"\n",
    "\n",
    "       nombre = nombre.lower()\n",
    "     \n",
    "       for producto in self.inventario:\n",
    "            if producto[\"nombre\"] == nombre:\n",
    "                producto[\"cantidad\"] += cantidad\n",
    "                print(f\"El producto {producto} ya existe, se ha actualizado a una cantidad de {producto['cantidad']}.\")\n",
    "                break # si encuentra el producto que se pare dentro del if, si no,que continue\n",
    "       else:\n",
    "            producto_nuevo = {\"nombre\": nombre, \"precio\": precio, \"cantidad\": cantidad} #lo creamos con los mismos parámetros\n",
    "            self.inventario.append(producto_nuevo)\n",
    "            print(self.inventario)\n",
    "            print(f\"El producto {producto_nuevo['nombre']} ha sido añadido con éxito con una cantidad de {cantidad} y un precio de {precio}€.\")\n",
    "    \n",
    "    def ver_inventario(self):\n",
    "    \n",
    "        \"\"\"Esta función es para visualizar el inventario que tenemos.\"\"\"\n",
    "        \n",
    "        for producto in self.inventario:\n",
    "            print(f\"Nombre: {producto['nombre']}, Precio: ${producto['precio']}, Cantidad: {producto['cantidad']}\")\n",
    "             \n",
    "    \n",
    "    \n",
    "    def buscar_producto(self, nombre):\n",
    "      \n",
    "    \n",
    "        \"\"\" Esta función sirve para saber si un producto está en el inventario y decirnos su precio y cantidad, en caso contrario,\n",
    "        se nos indica que no existe en nuestro diccionario.   \"\"\"\n",
    "        nombre = nombre.lower()\n",
    "\n",
    "        for producto in self.inventario:\n",
    "\n",
    "            if producto['nombre'] == nombre:\n",
    "                  \n",
    "                  print(f\"Nombre: {producto['nombre']}, Precio ${producto['precio']}, Cantidad {producto['cantidad']}\")\n",
    "                  return # para que vuelva si lo encuentra en el inventario\n",
    "\n",
    "        print(f\"El producto {nombre} no aparece en el inventario. Pruebe con otro.\") \n",
    "    \n",
    "    def actualizar_stock(self, nombre, cantidad):\n",
    "        \n",
    "        \"\"\"Actualización de la cantidad de stock de los productos del inventario. Hay que poner:nombre,cantidad.\n",
    "        Los número positivos suman y los negativos, restan stock. Nos imprime el stock actualizado, después de cada acción.\"\"\"\n",
    "\n",
    "        nombre = nombre.lower()\n",
    "\n",
    "        for producto in self.inventario:\n",
    "\n",
    "            if producto['nombre'] == nombre: \n",
    "                if cantidad > 0:\n",
    "                    producto['cantidad'] += cantidad\n",
    "                    print(f\"La cantidad añadida ha sido de {cantidad} más, actualmente hay {producto['cantidad']} en el inventario.\")\n",
    "\n",
    "                elif cantidad < 0:\n",
    "                    if producto['cantidad'] >= abs(cantidad):#para poder hacer el valor positivo y compararlo, para después restar\n",
    "                        producto['cantidad'] += cantidad \n",
    "                        print(f\"La cantidad proporcionada ha sido de {cantidad}, actualmente hay {producto['cantidad']} en el inventario.\")\n",
    "                \n",
    "                elif cantidad == 0:\n",
    "                          print(f\"La cantidad no puede realizar cambios, pruebe con otra cantidad.\")  \n",
    "        \n",
    "                else:\n",
    "                    print(\"No hay suficiente stock para restarlo al stock actual. Pruebe con una cantidad menor.\")\n",
    "        \n",
    "                return \n",
    "            \n",
    "        else:\n",
    "            print(\"Este producto no existe en el inventario. Pruebe con otro producto.\")   \n",
    "\n",
    "    def eliminar_producto(self, nombre):\n",
    "        \"\"\"Esta función es para eliminar productos proporcionando el nombre.\"\"\"\n",
    "\n",
    "        nombre = nombre.lower()\n",
    "\n",
    "        for producto in self.inventario:\n",
    "            if producto['nombre'] == nombre:\n",
    "                self.inventario.remove(producto) #queremos poder elegir el producto a eliminar\n",
    "                print(f\"El producto {producto['nombre']} ha sido eliminado. El inventario se ha actualizado.\")\n",
    "\n",
    "                break #si lo encuentra, se sale\n",
    "        else:\n",
    "            print(\"No aparece en el inventario.\")\n",
    "    \n",
    "    def calcular_valor_inventario(self):\n",
    "\n",
    "        \"\"\"Esta función nos calcula y muestra el valor total de nuestro inventario.\"\"\"\n",
    "\n",
    "        valor_total_inventario = 0 #inicia en 0 y luego va sumando nuestras respectivas multiplicaciones\n",
    "        for producto in self.inventario:\n",
    "            valor = producto['precio'] * producto['cantidad']\n",
    "            \n",
    "            valor_total_inventario += valor\n",
    "\n",
    "        print(f\"El valor total del inventario es {valor_total_inventario}.\") \n",
    "\n",
    "    \n",
    "    \n",
    "  "
   ]
  },
  {
   "cell_type": "code",
   "execution_count": 62,
   "id": "fb71261e",
   "metadata": {},
   "outputs": [],
   "source": [
    "tecnologiatenda = TiendaOnline()"
   ]
  },
  {
   "cell_type": "code",
   "execution_count": 63,
   "id": "5808677b",
   "metadata": {},
   "outputs": [
    {
     "name": "stdout",
     "output_type": "stream",
     "text": [
      "[{'nombre': 'ordenador', 'precio': 600, 'cantidad': 4}]\n",
      "El producto ordenador ha sido añadido con éxito con una cantidad de 4 y un precio de 600€.\n"
     ]
    }
   ],
   "source": [
    "tecnologiatenda.agregar_productos(\"ordenador\",600, 4)"
   ]
  },
  {
   "cell_type": "code",
   "execution_count": 64,
   "id": "02545722",
   "metadata": {},
   "outputs": [
    {
     "name": "stdout",
     "output_type": "stream",
     "text": [
      "El producto {'nombre': 'ordenador', 'precio': 600, 'cantidad': 8} ya existe, se ha actualizado a una cantidad de 8.\n"
     ]
    }
   ],
   "source": [
    "tecnologiatenda.agregar_productos(\"ordenador\",600, 4)"
   ]
  },
  {
   "cell_type": "code",
   "execution_count": 65,
   "id": "8f60ce8e",
   "metadata": {},
   "outputs": [
    {
     "name": "stdout",
     "output_type": "stream",
     "text": [
      "[{'nombre': 'ordenador', 'precio': 600, 'cantidad': 8}, {'nombre': 'impresora', 'precio': 40, 'cantidad': 2}]\n",
      "El producto impresora ha sido añadido con éxito con una cantidad de 2 y un precio de 40€.\n"
     ]
    }
   ],
   "source": [
    "tecnologiatenda.agregar_productos(\"impresora\", 40, 2)"
   ]
  },
  {
   "cell_type": "code",
   "execution_count": 66,
   "id": "f60705b8",
   "metadata": {},
   "outputs": [
    {
     "name": "stdout",
     "output_type": "stream",
     "text": [
      "[{'nombre': 'ordenador', 'precio': 600, 'cantidad': 8}, {'nombre': 'impresora', 'precio': 40, 'cantidad': 2}, {'nombre': 'raton', 'precio': 15.5, 'cantidad': 3}]\n",
      "El producto raton ha sido añadido con éxito con una cantidad de 3 y un precio de 15.5€.\n"
     ]
    }
   ],
   "source": [
    "tecnologiatenda.agregar_productos(\"raton\", 15.5, 3)"
   ]
  },
  {
   "cell_type": "code",
   "execution_count": 67,
   "id": "81e7120d",
   "metadata": {},
   "outputs": [
    {
     "name": "stdout",
     "output_type": "stream",
     "text": [
      "[{'nombre': 'ordenador', 'precio': 600, 'cantidad': 8}, {'nombre': 'impresora', 'precio': 40, 'cantidad': 2}, {'nombre': 'raton', 'precio': 15.5, 'cantidad': 3}, {'nombre': 'teclado', 'precio': 150, 'cantidad': 20}]\n",
      "El producto teclado ha sido añadido con éxito con una cantidad de 20 y un precio de 150€.\n"
     ]
    }
   ],
   "source": [
    "tecnologiatenda.agregar_productos(\"teclado\", 150, 20)"
   ]
  },
  {
   "cell_type": "code",
   "execution_count": 68,
   "id": "0fa1f1a1",
   "metadata": {},
   "outputs": [
    {
     "data": {
      "text/plain": [
       "{'inventario': [{'nombre': 'ordenador', 'precio': 600, 'cantidad': 8},\n",
       "  {'nombre': 'impresora', 'precio': 40, 'cantidad': 2},\n",
       "  {'nombre': 'raton', 'precio': 15.5, 'cantidad': 3},\n",
       "  {'nombre': 'teclado', 'precio': 150, 'cantidad': 20}],\n",
       " 'ventas_totales': 0.0}"
      ]
     },
     "execution_count": 68,
     "metadata": {},
     "output_type": "execute_result"
    }
   ],
   "source": [
    "tecnologiatenda.__dict__"
   ]
  },
  {
   "cell_type": "code",
   "execution_count": 69,
   "id": "5f1dfef3",
   "metadata": {},
   "outputs": [
    {
     "name": "stdout",
     "output_type": "stream",
     "text": [
      "Nombre: ordenador, Precio: $600, Cantidad: 8\n",
      "Nombre: impresora, Precio: $40, Cantidad: 2\n",
      "Nombre: raton, Precio: $15.5, Cantidad: 3\n",
      "Nombre: teclado, Precio: $150, Cantidad: 20\n"
     ]
    }
   ],
   "source": [
    "tecnologiatenda.ver_inventario()"
   ]
  },
  {
   "cell_type": "code",
   "execution_count": 70,
   "id": "890d91b5",
   "metadata": {},
   "outputs": [
    {
     "name": "stdout",
     "output_type": "stream",
     "text": [
      "Nombre: ordenador, Precio $600, Cantidad 8\n"
     ]
    }
   ],
   "source": [
    "tecnologiatenda.buscar_producto(\"ordenador\")"
   ]
  },
  {
   "cell_type": "code",
   "execution_count": 71,
   "id": "a4df8cee",
   "metadata": {},
   "outputs": [
    {
     "name": "stdout",
     "output_type": "stream",
     "text": [
      "El producto tecla no aparece en el inventario. Pruebe con otro.\n"
     ]
    }
   ],
   "source": [
    "tecnologiatenda.buscar_producto(\"tecla\")"
   ]
  },
  {
   "cell_type": "code",
   "execution_count": 72,
   "id": "92522f1d",
   "metadata": {},
   "outputs": [
    {
     "name": "stdout",
     "output_type": "stream",
     "text": [
      "La cantidad añadida ha sido de 2 más, actualmente hay 10 en el inventario.\n"
     ]
    }
   ],
   "source": [
    "tecnologiatenda.actualizar_stock(\"ordenador\", 2)"
   ]
  },
  {
   "cell_type": "code",
   "execution_count": 73,
   "id": "75687036",
   "metadata": {},
   "outputs": [
    {
     "name": "stdout",
     "output_type": "stream",
     "text": [
      "La cantidad proporcionada ha sido de -1, actualmente hay 2 en el inventario.\n"
     ]
    }
   ],
   "source": [
    "tecnologiatenda.actualizar_stock(\"raton\", -1)"
   ]
  },
  {
   "cell_type": "code",
   "execution_count": 74,
   "id": "34e23f19",
   "metadata": {},
   "outputs": [
    {
     "name": "stdout",
     "output_type": "stream",
     "text": [
      "La cantidad añadida ha sido de 2 más, actualmente hay 4 en el inventario.\n"
     ]
    }
   ],
   "source": [
    "tecnologiatenda.actualizar_stock(\"Raton\", 2)"
   ]
  },
  {
   "cell_type": "code",
   "execution_count": 79,
   "id": "4f38ef82",
   "metadata": {},
   "outputs": [
    {
     "name": "stdout",
     "output_type": "stream",
     "text": [
      "La cantidad no puede realizar cambios, pruebe con otra cantidad.\n"
     ]
    }
   ],
   "source": [
    "tecnologiatenda.actualizar_stock(\"Impresora\", 0)"
   ]
  },
  {
   "cell_type": "code",
   "execution_count": 75,
   "id": "c559750b",
   "metadata": {},
   "outputs": [
    {
     "name": "stdout",
     "output_type": "stream",
     "text": [
      "El producto ordenador ha sido eliminado. El inventario se ha actualizado.\n"
     ]
    }
   ],
   "source": [
    "tecnologiatenda.eliminar_producto(\"ordenador\")"
   ]
  },
  {
   "cell_type": "code",
   "execution_count": 76,
   "id": "4c1d2df0",
   "metadata": {},
   "outputs": [
    {
     "name": "stdout",
     "output_type": "stream",
     "text": [
      "No aparece en el inventario.\n"
     ]
    }
   ],
   "source": [
    "tecnologiatenda.eliminar_producto(\"Perro\")"
   ]
  },
  {
   "cell_type": "code",
   "execution_count": 77,
   "id": "135e1105",
   "metadata": {},
   "outputs": [
    {
     "data": {
      "text/plain": [
       "{'inventario': [{'nombre': 'impresora', 'precio': 40, 'cantidad': 2},\n",
       "  {'nombre': 'raton', 'precio': 15.5, 'cantidad': 4},\n",
       "  {'nombre': 'teclado', 'precio': 150, 'cantidad': 20}],\n",
       " 'ventas_totales': 0.0}"
      ]
     },
     "execution_count": 77,
     "metadata": {},
     "output_type": "execute_result"
    }
   ],
   "source": [
    "tecnologiatenda.__dict__"
   ]
  },
  {
   "cell_type": "code",
   "execution_count": 78,
   "id": "564dcfd3",
   "metadata": {},
   "outputs": [
    {
     "name": "stdout",
     "output_type": "stream",
     "text": [
      "El valor total del inventario es 3142.0.\n"
     ]
    }
   ],
   "source": [
    "tecnologiatenda.calcular_valor_inventario()"
   ]
  }
 ],
 "metadata": {
  "kernelspec": {
   "display_name": "base",
   "language": "python",
   "name": "python3"
  },
  "language_info": {
   "codemirror_mode": {
    "name": "ipython",
    "version": 3
   },
   "file_extension": ".py",
   "mimetype": "text/x-python",
   "name": "python",
   "nbconvert_exporter": "python",
   "pygments_lexer": "ipython3",
   "version": "3.12.7"
  }
 },
 "nbformat": 4,
 "nbformat_minor": 5
}
