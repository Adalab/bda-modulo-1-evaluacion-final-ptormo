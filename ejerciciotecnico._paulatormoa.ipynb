{
 "cells": [
  {
   "cell_type": "code",
   "execution_count": null,
   "id": "ca746d5c",
   "metadata": {},
   "outputs": [],
   "source": [
    "class TiendaOnline:\n",
    "    def __init__(self):\n",
    "\n",
    "        self.inventario = []\n",
    "        self.ventas_totales = 0\n",
    "        \n",
    "    def agregar_productos(self,nombre, precio, cantidad):\n",
    "        \n",
    "        for producto in self.inventario:\n",
    "            if producto[\"nombre\"] == nombre:\n",
    "                producto[\"cantidad\"] += cantidad\n",
    "                print(f\"El producto {producto} ya existe, se ha actualizado a una cantidad de {producto[\"cantidad\"]}\")\n",
    "            break # si encuentra el producto que se pare\n",
    "        else:\n",
    "            producto_nuevo = {\"nombre\": nombre, \"precio\": precio, \"cantidad\": cantidad}\n",
    "            self.inventario.append(producto_nuevo)\n",
    "            print(f\"El producto {producto_nuevo} ha sido añadido con éxito con una cantidad de {cantidad} y un precio de {precio}\")\n",
    "    \n",
    "    def ver_inventario(self, producto):\n",
    "\n",
    "        for producto in self.inventario:\n",
    "            print(f\"Nombre: {producto[\"nombre\"]}, Precio: {producto[\"precio\"]}€, Cantidad {producto[\"cantidad\"]}\")\n",
    "\n",
    "\n",
    "        "
   ]
  },
  {
   "cell_type": "code",
   "execution_count": 29,
   "id": "fb71261e",
   "metadata": {},
   "outputs": [],
   "source": [
    "tienda = TiendaOnline()"
   ]
  },
  {
   "cell_type": "code",
   "execution_count": 30,
   "id": "5808677b",
   "metadata": {},
   "outputs": [
    {
     "name": "stdout",
     "output_type": "stream",
     "text": [
      "El producto {'nombre': 'ordenador', 'precio': 600, 'cantidad': 4} ha sido añadido con éxito con una cantidad de 4 y un precio de 600\n"
     ]
    }
   ],
   "source": [
    "tienda.agregar_productos(\"ordenador\",600,4)"
   ]
  },
  {
   "cell_type": "code",
   "execution_count": 31,
   "id": "02545722",
   "metadata": {},
   "outputs": [
    {
     "name": "stdout",
     "output_type": "stream",
     "text": [
      "El producto {'nombre': 'ordenador', 'precio': 600, 'cantidad': 8} ya existe, se ha actualizado a una cantidad de 8\n"
     ]
    }
   ],
   "source": [
    "tienda.agregar_productos(\"ordenador\",600,4)"
   ]
  },
  {
   "cell_type": "code",
   "execution_count": 32,
   "id": "0fa1f1a1",
   "metadata": {},
   "outputs": [
    {
     "data": {
      "text/plain": [
       "{'inventario': [{'nombre': 'ordenador', 'precio': 600, 'cantidad': 8}],\n",
       " 'ventas_totales': 0}"
      ]
     },
     "execution_count": 32,
     "metadata": {},
     "output_type": "execute_result"
    }
   ],
   "source": [
    "tienda.__dict__"
   ]
  },
  {
   "cell_type": "code",
   "execution_count": null,
   "id": "b4d2a30f",
   "metadata": {},
   "outputs": [],
   "source": []
  },
  {
   "cell_type": "code",
   "execution_count": 33,
   "id": "5f1dfef3",
   "metadata": {},
   "outputs": [
    {
     "name": "stdout",
     "output_type": "stream",
     "text": [
      "Nombre: ordenador, precio: 600, cantidad 8\n"
     ]
    }
   ],
   "source": [
    "tienda.ver_inventario(\"ordenador\")"
   ]
  }
 ],
 "metadata": {
  "kernelspec": {
   "display_name": "base",
   "language": "python",
   "name": "python3"
  },
  "language_info": {
   "codemirror_mode": {
    "name": "ipython",
    "version": 3
   },
   "file_extension": ".py",
   "mimetype": "text/x-python",
   "name": "python",
   "nbconvert_exporter": "python",
   "pygments_lexer": "ipython3",
   "version": "3.12.7"
  }
 },
 "nbformat": 4,
 "nbformat_minor": 5
}
