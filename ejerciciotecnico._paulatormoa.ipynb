{
 "cells": [
  {
   "cell_type": "code",
   "execution_count": 53,
   "id": "ca746d5c",
   "metadata": {},
   "outputs": [],
   "source": [
    "class TiendaOnline:\n",
    "    def __init__(self):\n",
    "\n",
    "        self.inventario = []\n",
    "        self.ventas_totales = 0\n",
    "        \n",
    "    def agregar_productos(self,nombre, precio, cantidad):\n",
    "\n",
    "        \"\"\"el producto está en orden:nombre,precio,cantidad\"\"\"\n",
    "        \n",
    "        for producto in self.inventario:\n",
    "            if producto[\"nombre\"] == nombre:\n",
    "                producto[\"cantidad\"] += cantidad\n",
    "                print(f\"El producto {producto} ya existe, se ha actualizado a una cantidad de {producto['cantidad']}.\")\n",
    "                break # si encuentra el producto que se pare dentro del if, si no que continue\n",
    "        else:\n",
    "            producto_nuevo = {\"nombre\": nombre, \"precio\": precio, \"cantidad\": cantidad}\n",
    "            self.inventario.append(producto_nuevo)\n",
    "            print(self.inventario)\n",
    "            print(f\"El producto {producto_nuevo['nombre']} ha sido añadido con éxito con una cantidad de {cantidad} y un precio de {precio}€.\")\n",
    "    \n",
    "    def ver_inventario(self, producto):\n",
    "\n",
    "        for producto in self.inventario:\n",
    "            print(f\"Nombre: {producto['nombre']}, Precio: ${producto['precio']}, Cantidad {producto['cantidad']}\")\n",
    "             #para al terminar de contar el inventario\n",
    "    \n",
    "    def buscar_producto(self, nombre):\n",
    "        for producto in self.inventario:\n",
    "            if nombre == producto[\"nombre\"]:\n",
    "                  print(f\"Producto: {producto['nombre']}, Precio ${producto['precio']}, Producto {producto['cantidad']}\") \n",
    "                  return # para que vuelva si lo encuentra en el inventario\n",
    "\n",
    "        print(f\"El producto {nombre} no aparece en el inventario. Pruebe con otro.\") #mejor con nombre para que esté más claro el mensaje\n",
    "    \n",
    "    def actualizar_stock(self, nombre, cantidad):\n",
    "        \"\"\"Actulización de la cantidad de stock de los productos del inventario. Los número positivos suman y los negativos, restan stock.\"\"\"\n",
    "        \n",
    "        nueva_cantidad = int(input(\"Introduce una cantidad para cambiar el stock del inventario.\"))\n",
    "\n",
    "        for producto in self.inventario:\n",
    "            if producto['nombre'] == nombre: \n",
    "                if nueva_cantidad > 0:\n",
    "                    producto['cantidad'] += nueva_cantidad \n",
    "                    print(f\"La cantidad añadida ha sido de {nueva_cantidad} más, actualmente hay {producto['cantidad']} en el inventario.\")\n",
    "\n",
    "                elif nueva_cantidad < 0:\n",
    "                    if producto['cantidad'] >= 0:\n",
    "                        producto['cantidad'] -= cantidad\n",
    "                        print(f\"La cantidad añadida ha sido de {nueva_cantidad} menos, actualmente hay {cantidad['cantidad']} en el inventario.\")\n",
    "                    else:\n",
    "                        print(\"No hay suficiente stock para restarlo al stock actual. Pruebe con una cantidad menor.\")\n",
    "        \n",
    "            break\n",
    "            \n",
    "        else:\n",
    "            print(\"Este producto no existe en el inventario. Pruebe con otro producto.\")   \n",
    "\n",
    "    def eliminar_producto(self, nombre):\n",
    "        nombre = input(\"Introduce el producto a eliminar del inventario.\").lower()\n",
    "        for producto in self.inventario:\n",
    "            if producto['nombre'] == nombre:\n",
    "                self.inventario.remove(producto)\n",
    "                print(f\"El producto {producto['nombre']} ha sido eliminado. El inventario se ha actualizado.\")\n",
    "\n",
    "                break #si lo encuentra, se sale\n",
    "        else:\n",
    "            print(\"No aparece en el inventario\") \n",
    "    \n",
    "  "
   ]
  },
  {
   "cell_type": "code",
   "execution_count": 54,
   "id": "fb71261e",
   "metadata": {},
   "outputs": [],
   "source": [
    "tienda = TiendaOnline()"
   ]
  },
  {
   "cell_type": "code",
   "execution_count": 55,
   "id": "5808677b",
   "metadata": {},
   "outputs": [
    {
     "name": "stdout",
     "output_type": "stream",
     "text": [
      "[{'nombre': 'ordenador', 'precio': 600, 'cantidad': 4}]\n",
      "El producto ordenador ha sido añadido con éxito con una cantidad de 4 y un precio de 600€.\n"
     ]
    }
   ],
   "source": [
    "tienda.agregar_productos(\"ordenador\",600, 4)"
   ]
  },
  {
   "cell_type": "code",
   "execution_count": 56,
   "id": "02545722",
   "metadata": {},
   "outputs": [
    {
     "name": "stdout",
     "output_type": "stream",
     "text": [
      "El producto {'nombre': 'ordenador', 'precio': 600, 'cantidad': 8} ya existe, se ha actualizado a una cantidad de 8.\n"
     ]
    }
   ],
   "source": [
    "tienda.agregar_productos(\"ordenador\",600, 4)"
   ]
  },
  {
   "cell_type": "code",
   "execution_count": 57,
   "id": "8f60ce8e",
   "metadata": {},
   "outputs": [
    {
     "name": "stdout",
     "output_type": "stream",
     "text": [
      "[{'nombre': 'ordenador', 'precio': 600, 'cantidad': 8}, {'nombre': 'impresora', 'precio': 40, 'cantidad': 2}]\n",
      "El producto impresora ha sido añadido con éxito con una cantidad de 2 y un precio de 40€.\n"
     ]
    }
   ],
   "source": [
    "tienda.agregar_productos(\"impresora\", 40, 2)"
   ]
  },
  {
   "cell_type": "code",
   "execution_count": 58,
   "id": "f60705b8",
   "metadata": {},
   "outputs": [
    {
     "name": "stdout",
     "output_type": "stream",
     "text": [
      "[{'nombre': 'ordenador', 'precio': 600, 'cantidad': 8}, {'nombre': 'impresora', 'precio': 40, 'cantidad': 2}, {'nombre': 'raton', 'precio': 15.5, 'cantidad': 3}]\n",
      "El producto raton ha sido añadido con éxito con una cantidad de 3 y un precio de 15.5€.\n"
     ]
    }
   ],
   "source": [
    "tienda.agregar_productos(\"raton\", 15.5, 3)"
   ]
  },
  {
   "cell_type": "code",
   "execution_count": 59,
   "id": "81e7120d",
   "metadata": {},
   "outputs": [
    {
     "name": "stdout",
     "output_type": "stream",
     "text": [
      "[{'nombre': 'ordenador', 'precio': 600, 'cantidad': 8}, {'nombre': 'impresora', 'precio': 40, 'cantidad': 2}, {'nombre': 'raton', 'precio': 15.5, 'cantidad': 3}, {'nombre': 'teclado', 'precio': 150, 'cantidad': 20}]\n",
      "El producto teclado ha sido añadido con éxito con una cantidad de 20 y un precio de 150€.\n"
     ]
    }
   ],
   "source": [
    "tienda.agregar_productos(\"teclado\", 150, 20)"
   ]
  },
  {
   "cell_type": "code",
   "execution_count": 60,
   "id": "0fa1f1a1",
   "metadata": {},
   "outputs": [
    {
     "data": {
      "text/plain": [
       "{'inventario': [{'nombre': 'ordenador', 'precio': 600, 'cantidad': 8},\n",
       "  {'nombre': 'impresora', 'precio': 40, 'cantidad': 2},\n",
       "  {'nombre': 'raton', 'precio': 15.5, 'cantidad': 3},\n",
       "  {'nombre': 'teclado', 'precio': 150, 'cantidad': 20}],\n",
       " 'ventas_totales': 0}"
      ]
     },
     "execution_count": 60,
     "metadata": {},
     "output_type": "execute_result"
    }
   ],
   "source": [
    "tienda.__dict__"
   ]
  },
  {
   "cell_type": "code",
   "execution_count": 61,
   "id": "5f1dfef3",
   "metadata": {},
   "outputs": [
    {
     "name": "stdout",
     "output_type": "stream",
     "text": [
      "Nombre: ordenador, Precio: $600, Cantidad 8\n",
      "Nombre: impresora, Precio: $40, Cantidad 2\n",
      "Nombre: raton, Precio: $15.5, Cantidad 3\n",
      "Nombre: teclado, Precio: $150, Cantidad 20\n"
     ]
    }
   ],
   "source": [
    "tienda.ver_inventario(\"ordenador\")"
   ]
  },
  {
   "cell_type": "code",
   "execution_count": 62,
   "id": "890d91b5",
   "metadata": {},
   "outputs": [
    {
     "name": "stdout",
     "output_type": "stream",
     "text": [
      "Producto: ordenador, Precio $600, Producto 8\n"
     ]
    }
   ],
   "source": [
    "tienda.buscar_producto(\"ordenador\")"
   ]
  },
  {
   "cell_type": "code",
   "execution_count": 63,
   "id": "a4df8cee",
   "metadata": {},
   "outputs": [
    {
     "name": "stdout",
     "output_type": "stream",
     "text": [
      "El producto tecla no aparece en el inventario. Pruebe con otro.\n"
     ]
    }
   ],
   "source": [
    "tienda.buscar_producto(\"tecla\")"
   ]
  },
  {
   "cell_type": "code",
   "execution_count": 64,
   "id": "92522f1d",
   "metadata": {},
   "outputs": [
    {
     "name": "stdout",
     "output_type": "stream",
     "text": [
      "La cantidad añadida ha sido de 2 más, actualmente hay 10 en el inventario.\n"
     ]
    }
   ],
   "source": [
    "tienda.actualizar_stock(\"ordenador\", 2)"
   ]
  },
  {
   "cell_type": "code",
   "execution_count": 65,
   "id": "75687036",
   "metadata": {},
   "outputs": [],
   "source": [
    "tienda.actualizar_stock(\"raton\", -1)"
   ]
  },
  {
   "cell_type": "code",
   "execution_count": 66,
   "id": "c559750b",
   "metadata": {},
   "outputs": [
    {
     "name": "stdout",
     "output_type": "stream",
     "text": [
      "El producto ordenador ha sido eliminado. El inventario se ha actualizado.\n"
     ]
    }
   ],
   "source": [
    "tienda.eliminar_producto(\"ordenador\")"
   ]
  },
  {
   "cell_type": "code",
   "execution_count": 67,
   "id": "4c1d2df0",
   "metadata": {},
   "outputs": [
    {
     "name": "stdout",
     "output_type": "stream",
     "text": [
      "No aparece en el inventario\n"
     ]
    }
   ],
   "source": [
    "tienda.eliminar_producto(\"perro\")"
   ]
  },
  {
   "cell_type": "code",
   "execution_count": 68,
   "id": "135e1105",
   "metadata": {},
   "outputs": [
    {
     "data": {
      "text/plain": [
       "{'inventario': [{'nombre': 'impresora', 'precio': 40, 'cantidad': 2},\n",
       "  {'nombre': 'raton', 'precio': 15.5, 'cantidad': 3},\n",
       "  {'nombre': 'teclado', 'precio': 150, 'cantidad': 20}],\n",
       " 'ventas_totales': 0}"
      ]
     },
     "execution_count": 68,
     "metadata": {},
     "output_type": "execute_result"
    }
   ],
   "source": [
    "tienda.__dict__"
   ]
  }
 ],
 "metadata": {
  "kernelspec": {
   "display_name": "base",
   "language": "python",
   "name": "python3"
  },
  "language_info": {
   "codemirror_mode": {
    "name": "ipython",
    "version": 3
   },
   "file_extension": ".py",
   "mimetype": "text/x-python",
   "name": "python",
   "nbconvert_exporter": "python",
   "pygments_lexer": "ipython3",
   "version": "3.12.7"
  }
 },
 "nbformat": 4,
 "nbformat_minor": 5
}
