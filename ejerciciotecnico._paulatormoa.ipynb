{
 "cells": [
  {
   "cell_type": "code",
   "execution_count": null,
   "id": "ca746d5c",
   "metadata": {},
   "outputs": [],
   "source": [
    "class TiendaOnline:\n",
    "    def __init__(self):\n",
    "\n",
    "        self.inventario = []\n",
    "        self.ventas_totales = 0\n",
    "        \n",
    "    def agregar_productos(self,nombre, precio, cantidad):\n",
    "\n",
    "        \"\"\"el producto está en orden:nombre,precio,cantidad\"\"\"\n",
    "        \n",
    "        for producto in self.inventario:\n",
    "            if producto[\"nombre\"] == nombre:\n",
    "                producto[\"cantidad\"] += cantidad\n",
    "                print(f\"El producto {producto} ya existe, se ha actualizado a una cantidad de {producto['cantidad']}.\")\n",
    "                break # si encuentra el producto que se pare dentro del if, si no que continue\n",
    "        else:\n",
    "            producto_nuevo = {\"nombre\": nombre, \"precio\": precio, \"cantidad\": cantidad}\n",
    "            self.inventario.append(producto_nuevo)\n",
    "            print(self.inventario)\n",
    "            print(f\"El producto {producto_nuevo['nombre']} ha sido añadido con éxito con una cantidad de {cantidad} y un precio de {precio}€.\")\n",
    "    \n",
    "    def ver_inventario(self, producto):\n",
    "\n",
    "        for producto in self.inventario:\n",
    "            print(f\"Nombre: {producto[\"nombre\"]}, Precio: ${producto[\"precio\"]}, Cantidad {producto[\"cantidad\"]}\")\n",
    "             #para al terminar de contar el inventario\n",
    "    \n",
    "    def buscar_producto(self, nombre):\n",
    "        for producto in self.inventario:\n",
    "            if nombre == producto[\"nombre\"]:\n",
    "                  print(f\"Producto: {producto[\"nombre\"]}, Precio ${producto[\"precio\"]}, Producto {producto[\"cantidad\"]}\") \n",
    "                  return # para que vuelva si lo encuentra en el inventario\n",
    "\n",
    "        print(f\"El producto {nombre} no aparece en el inventario. Pruebe con otro.\") #mejor con nombre para que esté más claro el mensaje\n",
    "    \n",
    "        \n",
    "       "
   ]
  },
  {
   "cell_type": "code",
   "execution_count": 69,
   "id": "fb71261e",
   "metadata": {},
   "outputs": [],
   "source": [
    "tienda = TiendaOnline()"
   ]
  },
  {
   "cell_type": "code",
   "execution_count": 70,
   "id": "5808677b",
   "metadata": {},
   "outputs": [
    {
     "name": "stdout",
     "output_type": "stream",
     "text": [
      "[{'nombre': 'ordenador', 'precio': 600, 'cantidad': 4}]\n",
      "El producto ordenador ha sido añadido con éxito con una cantidad de 4 y un precio de 600€.\n"
     ]
    }
   ],
   "source": [
    "tienda.agregar_productos(\"ordenador\",600, 4)"
   ]
  },
  {
   "cell_type": "code",
   "execution_count": 71,
   "id": "02545722",
   "metadata": {},
   "outputs": [
    {
     "name": "stdout",
     "output_type": "stream",
     "text": [
      "El producto {'nombre': 'ordenador', 'precio': 600, 'cantidad': 8} ya existe, se ha actualizado a una cantidad de 8.\n"
     ]
    }
   ],
   "source": [
    "tienda.agregar_productos(\"ordenador\",600, 4)"
   ]
  },
  {
   "cell_type": "code",
   "execution_count": 72,
   "id": "8f60ce8e",
   "metadata": {},
   "outputs": [
    {
     "name": "stdout",
     "output_type": "stream",
     "text": [
      "[{'nombre': 'ordenador', 'precio': 600, 'cantidad': 8}, {'nombre': 'impresora', 'precio': 40, 'cantidad': 2}]\n",
      "El producto impresora ha sido añadido con éxito con una cantidad de 2 y un precio de 40€.\n"
     ]
    }
   ],
   "source": [
    "tienda.agregar_productos(\"impresora\", 40, 2)"
   ]
  },
  {
   "cell_type": "code",
   "execution_count": 73,
   "id": "f60705b8",
   "metadata": {},
   "outputs": [
    {
     "name": "stdout",
     "output_type": "stream",
     "text": [
      "[{'nombre': 'ordenador', 'precio': 600, 'cantidad': 8}, {'nombre': 'impresora', 'precio': 40, 'cantidad': 2}, {'nombre': 'raton', 'precio': 15.5, 'cantidad': 3}]\n",
      "El producto raton ha sido añadido con éxito con una cantidad de 3 y un precio de 15.5€.\n"
     ]
    }
   ],
   "source": [
    "tienda.agregar_productos(\"raton\", 15.5, 3)"
   ]
  },
  {
   "cell_type": "code",
   "execution_count": 74,
   "id": "81e7120d",
   "metadata": {},
   "outputs": [
    {
     "name": "stdout",
     "output_type": "stream",
     "text": [
      "[{'nombre': 'ordenador', 'precio': 600, 'cantidad': 8}, {'nombre': 'impresora', 'precio': 40, 'cantidad': 2}, {'nombre': 'raton', 'precio': 15.5, 'cantidad': 3}, {'nombre': 'teclado', 'precio': 150, 'cantidad': 20}]\n",
      "El producto teclado ha sido añadido con éxito con una cantidad de 20 y un precio de 150€.\n"
     ]
    }
   ],
   "source": [
    "tienda.agregar_productos(\"teclado\", 150, 20)"
   ]
  },
  {
   "cell_type": "code",
   "execution_count": 75,
   "id": "0fa1f1a1",
   "metadata": {},
   "outputs": [
    {
     "data": {
      "text/plain": [
       "{'inventario': [{'nombre': 'ordenador', 'precio': 600, 'cantidad': 8},\n",
       "  {'nombre': 'impresora', 'precio': 40, 'cantidad': 2},\n",
       "  {'nombre': 'raton', 'precio': 15.5, 'cantidad': 3},\n",
       "  {'nombre': 'teclado', 'precio': 150, 'cantidad': 20}],\n",
       " 'ventas_totales': 0}"
      ]
     },
     "execution_count": 75,
     "metadata": {},
     "output_type": "execute_result"
    }
   ],
   "source": [
    "tienda.__dict__"
   ]
  },
  {
   "cell_type": "code",
   "execution_count": 76,
   "id": "5f1dfef3",
   "metadata": {},
   "outputs": [
    {
     "name": "stdout",
     "output_type": "stream",
     "text": [
      "Nombre: ordenador, Precio: $600, Cantidad 8\n",
      "Nombre: impresora, Precio: $40, Cantidad 2\n",
      "Nombre: raton, Precio: $15.5, Cantidad 3\n",
      "Nombre: teclado, Precio: $150, Cantidad 20\n"
     ]
    }
   ],
   "source": [
    "tienda.ver_inventario(\"ordenador\")"
   ]
  },
  {
   "cell_type": "code",
   "execution_count": 77,
   "id": "890d91b5",
   "metadata": {},
   "outputs": [
    {
     "name": "stdout",
     "output_type": "stream",
     "text": [
      "Producto: ordenador, Precio $600, Producto 8\n"
     ]
    }
   ],
   "source": [
    "tienda.buscar_producto(\"ordenador\")"
   ]
  },
  {
   "cell_type": "code",
   "execution_count": 78,
   "id": "a4df8cee",
   "metadata": {},
   "outputs": [
    {
     "name": "stdout",
     "output_type": "stream",
     "text": [
      "El producto tecla no aparece en el inventario. Pruebe con otro.\n"
     ]
    }
   ],
   "source": [
    "tienda.buscar_producto(\"tecla\")"
   ]
  }
 ],
 "metadata": {
  "kernelspec": {
   "display_name": "base",
   "language": "python",
   "name": "python3"
  },
  "language_info": {
   "codemirror_mode": {
    "name": "ipython",
    "version": 3
   },
   "file_extension": ".py",
   "mimetype": "text/x-python",
   "name": "python",
   "nbconvert_exporter": "python",
   "pygments_lexer": "ipython3",
   "version": "3.12.7"
  }
 },
 "nbformat": 4,
 "nbformat_minor": 5
}
