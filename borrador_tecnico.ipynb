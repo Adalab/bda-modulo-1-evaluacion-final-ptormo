{
 "cells": [
  {
   "cell_type": "markdown",
   "id": "22573543",
   "metadata": {},
   "source": [
    "Ejercicio\n",
    " A lo largo de esta evaluación tendrás que crear una clase llamada \n",
    "TiendaOnline\n",
    " que cumpla los\n",
    " siguientes requisitos:\n",
    " La clase \n",
    "TiendaOnline\n",
    " debe tener los siguientes atributos:\n",
    " . \n",
    "inventario\n",
    " (lista de diccionarios): Un atributo para almacenar los productos en el inventario.\n",
    " Cada producto debe ser representado como un diccionario con las siguientes claves:\n",
    " 'nombre'\n",
    " , \n",
    "'precio'\n",
    " , y \n",
    "'cantidad'\n",
    " . Al principio deberá ser una lista vacía. Ejemplo de\n",
    " como debería ser:\n",
    "    [{'nombre': 'Camisa', 'precio': 20, 'cantidad': 40}, \n",
    "    {'nombre': 'Pantalón', 'precio': 30, 'cantidad': 30}] \n",
    ". \n",
    "ventas_totales\n",
    " (float): Un atributo para llevar un registro de las ventas totales de la tienda.\n",
    " Inicializado con valor 0"
   ]
  },
  {
   "cell_type": "markdown",
   "id": "3a6069b0",
   "metadata": {},
   "source": [
    " \n",
    "agregar_producto(self, nombre, precio, cantidad)\n",
    " : Este método agrega un producto al\n",
    " inventario o actualiza su cantidad si ya existe. Debe recibir el nombre, precio y cantidad del producto\n",
    " como parámetros.\n",
    " Itera a través del inventario y compara los nombres de los productos con el nombre\n",
    " proporcionado.\n",
    " Si el producto ya existe, actualiza la cantidad.\n",
    " Si no existe, agrega un nuevo producto al inventario"
   ]
  },
  {
   "cell_type": "code",
   "execution_count": 67,
   "id": "370c605a",
   "metadata": {},
   "outputs": [
    {
     "name": "stdout",
     "output_type": "stream",
     "text": [
      "Se ha añadido  al inventario\n"
     ]
    }
   ],
   "source": [
    "#agregar_productos: \n",
    "inventario = []\n",
    "producto = input(\"Indique el producto que desea valorar en el inventario\").lower()\n",
    "\n",
    "cantidad = 0 \n",
    "if producto in inventario:\n",
    "        cantidad += 1\n",
    "        print(f\"La cantidad del producto {producto} ha sido aumentada en: {cantidad}\")\n",
    "    \n",
    "if producto not in inventario:\n",
    "    inventario.append(producto)\n",
    "    print(f\"Se ha añadido {producto} al inventario\")\n",
    "\n"
   ]
  },
  {
   "cell_type": "code",
   "execution_count": 68,
   "id": "32582476",
   "metadata": {},
   "outputs": [
    {
     "name": "stdout",
     "output_type": "stream",
     "text": [
      "['']\n"
     ]
    }
   ],
   "source": [
    "print(inventario)"
   ]
  },
  {
   "cell_type": "code",
   "execution_count": 69,
   "id": "26b9b89d",
   "metadata": {},
   "outputs": [],
   "source": [
    "inventario = [{\"nombre\": \"altavoces\", \"precio\": 100, \"cantidad\": 20}, {\"nombre\": \"ordenador\", \"precio\": 500, \"cantidad\": 30}]\n",
    "producto = input(\"Indique el producto que desea valorar en el inventario\").lower()\n",
    "nombre = nombre.lower()\n",
    "precio #definir variables(?) prueba siguiente\n",
    "\n",
    "for producto in inventario:\n",
    "    if producto[\"nombre\"].lower() == nombre:\n",
    "        cantidad[\"cantidad\"] += cantidad\n",
    "        print(f\"La cantidad del producto {producto} ha sido aumentada a: {cantidad}\")\n",
    "    \n",
    "    if producto not in inventario:\n",
    "        inventario.append[{\"nombre\": producto, \"precio\": precio, \"cantidad\": cantidad}]\n",
    "        print(f\"Se ha añadido {producto} al inventario, con precio {precio} y cantidad {cantidad}\")"
   ]
  },
  {
   "cell_type": "code",
   "execution_count": 70,
   "id": "49bb0a67",
   "metadata": {},
   "outputs": [
    {
     "ename": "ValueError",
     "evalue": "could not convert string to float: ''",
     "output_type": "error",
     "traceback": [
      "\u001b[1;31m---------------------------------------------------------------------------\u001b[0m",
      "\u001b[1;31mValueError\u001b[0m                                Traceback (most recent call last)",
      "Cell \u001b[1;32mIn[70], line 3\u001b[0m\n\u001b[0;32m      1\u001b[0m inventario \u001b[38;5;241m=\u001b[39m [{\u001b[38;5;124m\"\u001b[39m\u001b[38;5;124mnombre\u001b[39m\u001b[38;5;124m\"\u001b[39m: \u001b[38;5;124m\"\u001b[39m\u001b[38;5;124maltavoces\u001b[39m\u001b[38;5;124m\"\u001b[39m, \u001b[38;5;124m\"\u001b[39m\u001b[38;5;124mprecio\u001b[39m\u001b[38;5;124m\"\u001b[39m: \u001b[38;5;241m100\u001b[39m, \u001b[38;5;124m\"\u001b[39m\u001b[38;5;124mcantidad\u001b[39m\u001b[38;5;124m\"\u001b[39m: \u001b[38;5;241m20\u001b[39m}, {\u001b[38;5;124m\"\u001b[39m\u001b[38;5;124mnombre\u001b[39m\u001b[38;5;124m\"\u001b[39m: \u001b[38;5;124m\"\u001b[39m\u001b[38;5;124mordenador\u001b[39m\u001b[38;5;124m\"\u001b[39m, \u001b[38;5;124m\"\u001b[39m\u001b[38;5;124mprecio\u001b[39m\u001b[38;5;124m\"\u001b[39m: \u001b[38;5;241m500\u001b[39m, \u001b[38;5;124m\"\u001b[39m\u001b[38;5;124mcantidad\u001b[39m\u001b[38;5;124m\"\u001b[39m: \u001b[38;5;241m30\u001b[39m}]\n\u001b[0;32m      2\u001b[0m nombre \u001b[38;5;241m=\u001b[39m \u001b[38;5;28minput\u001b[39m(\u001b[38;5;124m\"\u001b[39m\u001b[38;5;124mintroduce un producto\u001b[39m\u001b[38;5;124m\"\u001b[39m)\u001b[38;5;241m.\u001b[39mlower() \u001b[38;5;66;03m#minusculas(?)\u001b[39;00m\n\u001b[1;32m----> 3\u001b[0m precio \u001b[38;5;241m=\u001b[39m \u001b[38;5;28mfloat\u001b[39m(\u001b[38;5;28minput\u001b[39m(\u001b[38;5;124mf\u001b[39m\u001b[38;5;124m\"\u001b[39m\u001b[38;5;124mintroduce el precio de \u001b[39m\u001b[38;5;132;01m{\u001b[39;00mnombre\u001b[38;5;132;01m}\u001b[39;00m\u001b[38;5;124m\"\u001b[39m)) \n\u001b[0;32m      4\u001b[0m cantidad \u001b[38;5;241m=\u001b[39m \u001b[38;5;28mint\u001b[39m(\u001b[38;5;28minput\u001b[39m(\u001b[38;5;124mf\u001b[39m\u001b[38;5;124m\"\u001b[39m\u001b[38;5;124mintroduce la cantidad de \u001b[39m\u001b[38;5;132;01m{\u001b[39;00mnombre\u001b[38;5;132;01m}\u001b[39;00m\u001b[38;5;124m\"\u001b[39m))\n\u001b[0;32m      6\u001b[0m \u001b[38;5;28;01mfor\u001b[39;00m producto \u001b[38;5;129;01min\u001b[39;00m inventario:\n",
      "\u001b[1;31mValueError\u001b[0m: could not convert string to float: ''"
     ]
    }
   ],
   "source": [
    "inventario = [{\"nombre\": \"altavoces\", \"precio\": 100, \"cantidad\": 20}, {\"nombre\": \"ordenador\", \"precio\": 500, \"cantidad\": 30}]\n",
    "nombre = input(\"introduce un producto\").lower() #minusculas(?)\n",
    "precio = float(input(f\"introduce el precio de {nombre}\")) \n",
    "cantidad = int(input(f\"introduce la cantidad de {nombre}\"))\n",
    "\n",
    "for producto in inventario:\n",
    "    if producto['nombre'].lower() == nombre.lower():\n",
    "        producto['cantidad'] += cantidad\n",
    "        print(f\"Producto existente. Se ha actualizado la cantidad de '{nombre}' a {producto['cantidad']}.\")\n",
    "        \n",
    "\n",
    "else:\n",
    "    producto_nuevo = {'nombre': nombre, 'precio': precio, 'cantidad': cantidad}\n",
    "    inventario.append(producto_nuevo)\n",
    "    print(f\"Se ha añadido {nombre} al inventario,tiene un precio de {precio} y una cantidad de {cantidad}.\")"
   ]
  },
  {
   "cell_type": "code",
   "execution_count": null,
   "id": "14d27873",
   "metadata": {},
   "outputs": [
    {
     "name": "stdout",
     "output_type": "stream",
     "text": [
      "Se ha añadido raton al inventario,tiene un precio de 15.0 y una cantidad de 4.\n"
     ]
    }
   ],
   "source": [
    "inventario = []\n",
    "nombre = input(\"introduce un producto\").lower()\n",
    "precio = float(input(f\"introduce el precio de {nombre}\")) #float queda bien para que coja los nums\n",
    "cantidad = int(input(f\"introduce la cantidad de {nombre}\")) #int para cantidad porque no puede tener , lo q sea\n",
    "\n",
    "for producto in inventario:\n",
    "    if producto['nombre'].lower() == nombre: #no se porq a veces coge o no lower\n",
    "        producto['cantidad'] += cantidad\n",
    "        print(f\"Producto existente. Se ha actualizado la cantidad de '{nombre}' a {producto['cantidad']}.\")\n",
    "        \n",
    "\n",
    "else:\n",
    "    producto_nuevo = {'nombre': nombre, 'precio': precio, 'cantidad': cantidad}\n",
    "    inventario.append(producto_nuevo)\n",
    "    print(f\"Se ha añadido {nombre} al inventario,tiene un precio de {precio} y una cantidad de {cantidad}.\")"
   ]
  },
  {
   "cell_type": "code",
   "execution_count": null,
   "id": "a3dda2e3",
   "metadata": {},
   "outputs": [
    {
     "name": "stdout",
     "output_type": "stream",
     "text": [
      "[{'nombre': 'raton', 'precio': 15.0, 'cantidad': 4}]\n"
     ]
    }
   ],
   "source": [
    "print(inventario)"
   ]
  },
  {
   "cell_type": "code",
   "execution_count": null,
   "id": "765a13b8",
   "metadata": {},
   "outputs": [],
   "source": [
    "def agregar_productos(nombre, precio, cantidad):\n",
    "    inventario = []\n",
    "    for producto in inventario:\n",
    "        if producto['nombre'] == nombre:\n",
    "            producto['cantidad'] += cantidad\n",
    "            print(f\"Producto existente. Se ha actualizado la cantidad de '{nombre}' a {producto['cantidad']}.\")\n",
    "            break #para que para cuando agregue producto, recuerda meterlo dentro del if!!!        \n",
    "\n",
    "    else:\n",
    "        producto_nuevo = {'nombre': nombre, 'precio': precio, 'cantidad': cantidad}\n",
    "        inventario.append(producto_nuevo)\n",
    "        print(f\"Se ha añadido {nombre} al inventario,tiene un precio de {precio} y una cantidad de {cantidad}.\")\n",
    "        "
   ]
  },
  {
   "cell_type": "code",
   "execution_count": null,
   "id": "a6f519c3",
   "metadata": {},
   "outputs": [],
   "source": [
    "def agregar_productos(nombre, precio, cantidad):\n",
    "    inventario = []\n",
    "    if producto not in inventario:\n",
    "        producto_nuevo = {'nombre': nombre, 'precio': precio, 'cantidad': cantidad}\n",
    "        inventario.append(producto_nuevo) #por q no va??? probar otra manera (?\n",
    "        print(f\"Se ha añadido {nombre} al inventario,tiene un precio de {precio} y una cantidad de {cantidad}.\") #l mnsj con f queda más bonito\n",
    "        \n",
    "    for producto in inventario:\n",
    "        if producto['nombre'] == nombre:\n",
    "            producto['cantidad'] += cantidad\n",
    "            print(f\"Producto existente. Se ha actualizado la cantidad de '{nombre}' a {producto['cantidad']}.\")\n",
    "            break #para que para cuando agregue producto        \n",
    "\n"
   ]
  },
  {
   "cell_type": "code",
   "execution_count": null,
   "id": "31a2065c",
   "metadata": {},
   "outputs": [
    {
     "ename": "UnboundLocalError",
     "evalue": "cannot access local variable 'producto' where it is not associated with a value",
     "output_type": "error",
     "traceback": [
      "\u001b[1;31m---------------------------------------------------------------------------\u001b[0m",
      "\u001b[1;31mUnboundLocalError\u001b[0m                         Traceback (most recent call last)",
      "Cell \u001b[1;32mIn[145], line 1\u001b[0m\n\u001b[1;32m----> 1\u001b[0m agregar_productos(\u001b[38;5;124m\"\u001b[39m\u001b[38;5;124mratón\u001b[39m\u001b[38;5;124m\"\u001b[39m, \u001b[38;5;241m15\u001b[39m, \u001b[38;5;241m3\u001b[39m)\n",
      "Cell \u001b[1;32mIn[144], line 3\u001b[0m, in \u001b[0;36magregar_productos\u001b[1;34m(nombre, precio, cantidad)\u001b[0m\n\u001b[0;32m      1\u001b[0m \u001b[38;5;28;01mdef\u001b[39;00m \u001b[38;5;21magregar_productos\u001b[39m(nombre, precio, cantidad):\n\u001b[0;32m      2\u001b[0m     inventario \u001b[38;5;241m=\u001b[39m []\n\u001b[1;32m----> 3\u001b[0m     \u001b[38;5;28;01mif\u001b[39;00m producto \u001b[38;5;129;01mnot\u001b[39;00m \u001b[38;5;129;01min\u001b[39;00m inventario:\n\u001b[0;32m      4\u001b[0m         producto_nuevo \u001b[38;5;241m=\u001b[39m {\u001b[38;5;124m'\u001b[39m\u001b[38;5;124mnombre\u001b[39m\u001b[38;5;124m'\u001b[39m: nombre, \u001b[38;5;124m'\u001b[39m\u001b[38;5;124mprecio\u001b[39m\u001b[38;5;124m'\u001b[39m: precio, \u001b[38;5;124m'\u001b[39m\u001b[38;5;124mcantidad\u001b[39m\u001b[38;5;124m'\u001b[39m: cantidad}\n\u001b[0;32m      5\u001b[0m         inventario\u001b[38;5;241m.\u001b[39mappend(producto_nuevo) \u001b[38;5;66;03m#por q no va??? probar otra manera (?\u001b[39;00m\n",
      "\u001b[1;31mUnboundLocalError\u001b[0m: cannot access local variable 'producto' where it is not associated with a value"
     ]
    }
   ],
   "source": [
    "agregar_productos(\"ratón\", 15, 3)"
   ]
  },
  {
   "cell_type": "code",
   "execution_count": null,
   "id": "79b9e671",
   "metadata": {},
   "outputs": [],
   "source": [
    "mi_lista = [1,2,3,4]\n",
    "num = 5\n",
    "mi_lista.append(num)"
   ]
  },
  {
   "cell_type": "code",
   "execution_count": null,
   "id": "39f8224c",
   "metadata": {},
   "outputs": [
    {
     "name": "stdout",
     "output_type": "stream",
     "text": [
      "[1, 2, 3, 4, 5]\n"
     ]
    }
   ],
   "source": [
    "print(mi_lista)"
   ]
  },
  {
   "cell_type": "code",
   "execution_count": null,
   "id": "cd1ac3d1",
   "metadata": {},
   "outputs": [
    {
     "name": "stdout",
     "output_type": "stream",
     "text": [
      "{'nombre': 'raton', 'precio': 15.0, 'cantidad': 4}\n"
     ]
    }
   ],
   "source": [
    "print(producto_nuevo)"
   ]
  },
  {
   "cell_type": "code",
   "execution_count": null,
   "id": "31ea9f4f",
   "metadata": {},
   "outputs": [
    {
     "ename": "UnboundLocalError",
     "evalue": "cannot access local variable 'producto' where it is not associated with a value",
     "output_type": "error",
     "traceback": [
      "\u001b[1;31m---------------------------------------------------------------------------\u001b[0m",
      "\u001b[1;31mUnboundLocalError\u001b[0m                         Traceback (most recent call last)",
      "Cell \u001b[1;32mIn[15], line 1\u001b[0m\n\u001b[1;32m----> 1\u001b[0m agregar_productos(\u001b[38;5;124m\"\u001b[39m\u001b[38;5;124mmovil\u001b[39m\u001b[38;5;124m\"\u001b[39m, \u001b[38;5;241m200\u001b[39m, \u001b[38;5;241m3\u001b[39m)\n",
      "Cell \u001b[1;32mIn[11], line 3\u001b[0m, in \u001b[0;36magregar_productos\u001b[1;34m(nombre, precio, cantidad)\u001b[0m\n\u001b[0;32m      1\u001b[0m \u001b[38;5;28;01mdef\u001b[39;00m \u001b[38;5;21magregar_productos\u001b[39m(nombre, precio, cantidad):\n\u001b[0;32m      2\u001b[0m     inventario \u001b[38;5;241m=\u001b[39m []\n\u001b[1;32m----> 3\u001b[0m     \u001b[38;5;28;01mif\u001b[39;00m producto \u001b[38;5;129;01mnot\u001b[39;00m \u001b[38;5;129;01min\u001b[39;00m inventario:\n\u001b[0;32m      4\u001b[0m         producto_nuevo \u001b[38;5;241m=\u001b[39m {\u001b[38;5;124m'\u001b[39m\u001b[38;5;124mnombre\u001b[39m\u001b[38;5;124m'\u001b[39m: nombre, \u001b[38;5;124m'\u001b[39m\u001b[38;5;124mprecio\u001b[39m\u001b[38;5;124m'\u001b[39m: precio, \u001b[38;5;124m'\u001b[39m\u001b[38;5;124mcantidad\u001b[39m\u001b[38;5;124m'\u001b[39m: cantidad}\n\u001b[0;32m      5\u001b[0m         inventario\u001b[38;5;241m.\u001b[39mappend(producto_nuevo) \u001b[38;5;66;03m#por q no va??? probar otra manera (?\u001b[39;00m\n",
      "\u001b[1;31mUnboundLocalError\u001b[0m: cannot access local variable 'producto' where it is not associated with a value"
     ]
    }
   ],
   "source": [
    "agregar_productos(\"movil\", 200, 3)"
   ]
  },
  {
   "cell_type": "code",
   "execution_count": null,
   "id": "2ab2702a",
   "metadata": {},
   "outputs": [
    {
     "ename": "UnboundLocalError",
     "evalue": "cannot access local variable 'producto' where it is not associated with a value",
     "output_type": "error",
     "traceback": [
      "\u001b[1;31m---------------------------------------------------------------------------\u001b[0m",
      "\u001b[1;31mUnboundLocalError\u001b[0m                         Traceback (most recent call last)",
      "Cell \u001b[1;32mIn[64], line 1\u001b[0m\n\u001b[1;32m----> 1\u001b[0m agregar_productos(\u001b[38;5;124m\"\u001b[39m\u001b[38;5;124mImpresora\u001b[39m\u001b[38;5;124m\"\u001b[39m, \u001b[38;5;241m50\u001b[39m, \u001b[38;5;241m2\u001b[39m)\n",
      "Cell \u001b[1;32mIn[61], line 3\u001b[0m, in \u001b[0;36magregar_productos\u001b[1;34m(nombre, precio, cantidad)\u001b[0m\n\u001b[0;32m      1\u001b[0m \u001b[38;5;28;01mdef\u001b[39;00m \u001b[38;5;21magregar_productos\u001b[39m(nombre, precio, cantidad):\n\u001b[0;32m      2\u001b[0m     inventario \u001b[38;5;241m=\u001b[39m []\n\u001b[1;32m----> 3\u001b[0m     \u001b[38;5;28;01mif\u001b[39;00m producto \u001b[38;5;129;01mnot\u001b[39;00m \u001b[38;5;129;01min\u001b[39;00m inventario:\n\u001b[0;32m      4\u001b[0m         producto_nuevo \u001b[38;5;241m=\u001b[39m {\u001b[38;5;124m'\u001b[39m\u001b[38;5;124mnombre\u001b[39m\u001b[38;5;124m'\u001b[39m: nombre, \u001b[38;5;124m'\u001b[39m\u001b[38;5;124mprecio\u001b[39m\u001b[38;5;124m'\u001b[39m: precio, \u001b[38;5;124m'\u001b[39m\u001b[38;5;124mcantidad\u001b[39m\u001b[38;5;124m'\u001b[39m: cantidad}\n\u001b[0;32m      5\u001b[0m         inventario\u001b[38;5;241m.\u001b[39mappend(producto_nuevo) \u001b[38;5;66;03m#por q no va??? probar otra manera (?\u001b[39;00m\n",
      "\u001b[1;31mUnboundLocalError\u001b[0m: cannot access local variable 'producto' where it is not associated with a value"
     ]
    }
   ],
   "source": [
    "agregar_productos(\"Impresora\", 50, 2)"
   ]
  },
  {
   "cell_type": "code",
   "execution_count": null,
   "id": "bcfe5739",
   "metadata": {},
   "outputs": [
    {
     "ename": "NameError",
     "evalue": "name 'agregar_productos' is not defined",
     "output_type": "error",
     "traceback": [
      "\u001b[1;31m---------------------------------------------------------------------------\u001b[0m",
      "\u001b[1;31mNameError\u001b[0m                                 Traceback (most recent call last)",
      "Cell \u001b[1;32mIn[10], line 1\u001b[0m\n\u001b[1;32m----> 1\u001b[0m agregar_productos(\u001b[38;5;124m\"\u001b[39m\u001b[38;5;124mcargador\u001b[39m\u001b[38;5;124m\"\u001b[39m, \u001b[38;5;241m6\u001b[39m, \u001b[38;5;241m5\u001b[39m)\n",
      "\u001b[1;31mNameError\u001b[0m: name 'agregar_productos' is not defined"
     ]
    }
   ],
   "source": [
    "agregar_productos(\"cargador\", 6, 5)"
   ]
  },
  {
   "cell_type": "code",
   "execution_count": null,
   "id": "3d6af647",
   "metadata": {},
   "outputs": [
    {
     "name": "stdout",
     "output_type": "stream",
     "text": [
      "[{'nombre': 'raton', 'precio': 15.0, 'cantidad': 4}]\n"
     ]
    }
   ],
   "source": [
    "print(inventario)"
   ]
  },
  {
   "cell_type": "code",
   "execution_count": null,
   "id": "bbeb77af",
   "metadata": {},
   "outputs": [
    {
     "name": "stdout",
     "output_type": "stream",
     "text": [
      "Nombre: raton, precio: 15.0€, cantidad: 4\n"
     ]
    }
   ],
   "source": [
    "for producto in inventario:\n",
    "        print(f\"Nombre: {producto[\"nombre\"]}, precio: {producto[\"precio\"]}€, cantidad: {producto[\"cantidad\"]}\")\n",
    "\n"
   ]
  },
  {
   "cell_type": "code",
   "execution_count": null,
   "id": "c0edd3bb",
   "metadata": {},
   "outputs": [],
   "source": [
    "def ver_inventario(inventario):\n",
    "    for producto in inventario:\n",
    "        print(f\"Nombre: {producto[\"nombre\"]}, precio: {producto[\"precio\"]}€, cantidad: {producto[\"cantidad\"]}\") #misma estrucutra ejer1\n"
   ]
  },
  {
   "cell_type": "code",
   "execution_count": null,
   "id": "e930f95b",
   "metadata": {},
   "outputs": [
    {
     "name": "stdout",
     "output_type": "stream",
     "text": [
      "Nombre: raton, precio: 15.0€, cantidad: 4\n"
     ]
    }
   ],
   "source": [
    "ver_inventario(inventario)"
   ]
  },
  {
   "cell_type": "markdown",
   "id": "372bcd87",
   "metadata": {},
   "source": [
    " \n",
    "buscar_producto(self, nombre)\n",
    " : Busca un producto en el inventario por nombre y muestra sus\n",
    " detalles si se encuentra. Debe recibir el nombre del producto como parámetro.\n",
    " Utiliza un bucle \n",
    "for\n",
    " para recorrer el inventario.\n",
    " Compara los nombres de los productos con el nombre proporcionado.\n",
    " Si se encuentra el producto, imprime sus detalles."
   ]
  },
  {
   "cell_type": "code",
   "execution_count": null,
   "id": "e4045a2c",
   "metadata": {},
   "outputs": [
    {
     "name": "stdout",
     "output_type": "stream",
     "text": [
      "[{'nombre': 'raton', 'precio': 15.0, 'cantidad': 4}]\n"
     ]
    }
   ],
   "source": [
    "print(inventario)"
   ]
  },
  {
   "cell_type": "code",
   "execution_count": null,
   "id": "2207ab95",
   "metadata": {},
   "outputs": [
    {
     "name": "stdout",
     "output_type": "stream",
     "text": [
      "{'nombre': 'raton', 'precio': 15.0, 'cantidad': 4}\n"
     ]
    }
   ],
   "source": [
    "for nombre in inventario:\n",
    "    print(nombre)\n",
    "    \n",
    "    if nombre == producto[\"nombre\"]:\n",
    "        print(keys())"
   ]
  },
  {
   "cell_type": "code",
   "execution_count": null,
   "id": "951d0ee7",
   "metadata": {},
   "outputs": [
    {
     "name": "stdout",
     "output_type": "stream",
     "text": [
      "dict_values(['raton', 15.0, 4])\n"
     ]
    }
   ],
   "source": [
    "print(producto.values())"
   ]
  },
  {
   "cell_type": "code",
   "execution_count": null,
   "id": "70a2763a",
   "metadata": {},
   "outputs": [
    {
     "name": "stdout",
     "output_type": "stream",
     "text": [
      "15.0, 4\n"
     ]
    }
   ],
   "source": [
    "for producto in inventario:\n",
    "    print(f\"{producto[\"precio\"]}, {producto[\"cantidad\"]}\")\n"
   ]
  },
  {
   "cell_type": "code",
   "execution_count": null,
   "id": "41c6dc3f",
   "metadata": {},
   "outputs": [],
   "source": [
    "for producto in inventario:\n",
    "    if nombre == producto['nombre']:\n",
    "        print(f\"precio: {producto[\"precio\"]}€, cantidad: {producto[\"cantidad\"]}\")\n",
    "    "
   ]
  },
  {
   "cell_type": "code",
   "execution_count": null,
   "id": "eba1c9c6",
   "metadata": {},
   "outputs": [],
   "source": []
  },
  {
   "cell_type": "code",
   "execution_count": null,
   "id": "debd79d4",
   "metadata": {},
   "outputs": [],
   "source": [
    "def buscar_producto(nombre): # para que busque por nombre\n",
    "\n",
    "    for producto in inventario:\n",
    "            if nombre == producto['nombre']:\n",
    "                  print(f\"{producto['precio']}, {producto['cantidad']}\") #funcionaba en ejer1. tb aqui\n",
    "                  return # para que vuelva si lo encuentra en el inventario (?) probar con más de uno/no cal\n",
    "\n",
    "    print(f\"El producto {nombre} no aparece en el inventario.Pruebe con otro.\") #mejor con nombre para que esté más claro el mensaje"
   ]
  },
  {
   "cell_type": "code",
   "execution_count": null,
   "id": "edbb6901",
   "metadata": {},
   "outputs": [
    {
     "name": "stdout",
     "output_type": "stream",
     "text": [
      "El producto ordenador no aparece en el inventario.Pruebe con otro.\n"
     ]
    }
   ],
   "source": [
    "buscar_producto(\"ordenador\")"
   ]
  },
  {
   "cell_type": "markdown",
   "id": "4d83170e",
   "metadata": {},
   "source": [
    "\n",
    "actualizar_stock(self, nombre, cantidad)\n",
    " : Actualiza el stock de un producto en el\n",
    " inventario. Debe recibir el nombre del producto y la cantidad a agregar o quitar como parámetros.\n",
    " Utiliza un bucle \n",
    "for\n",
    " para recorrer el inventario.\n",
    " Busca el producto por nombre.\n",
    " Actualiza la cantidad según la entrada del usuario.\n",
    " Si el producto no esta en el inventario muestra un mensaje indicándolo."
   ]
  },
  {
   "cell_type": "code",
   "execution_count": null,
   "id": "e524e96d",
   "metadata": {},
   "outputs": [
    {
     "name": "stdout",
     "output_type": "stream",
     "text": [
      "2\n"
     ]
    }
   ],
   "source": [
    "cantidad = 2\n",
    "nueva_cantidad = 3\n",
    "print(cantidad)"
   ]
  },
  {
   "cell_type": "code",
   "execution_count": null,
   "id": "8ae547af",
   "metadata": {},
   "outputs": [
    {
     "ename": "AttributeError",
     "evalue": "'str' object has no attribute 'items'",
     "output_type": "error",
     "traceback": [
      "\u001b[1;31m---------------------------------------------------------------------------\u001b[0m",
      "\u001b[1;31mAttributeError\u001b[0m                            Traceback (most recent call last)",
      "Cell \u001b[1;32mIn[66], line 1\u001b[0m\n\u001b[1;32m----> 1\u001b[0m nombre\u001b[38;5;241m.\u001b[39mitems()\n",
      "\u001b[1;31mAttributeError\u001b[0m: 'str' object has no attribute 'items'"
     ]
    }
   ],
   "source": [
    "nombre.items()"
   ]
  },
  {
   "cell_type": "code",
   "execution_count": null,
   "id": "44bec42b",
   "metadata": {},
   "outputs": [
    {
     "name": "stdout",
     "output_type": "stream",
     "text": [
      "{'nombre': 'raton', 'precio': 15.0, 'cantidad': 4}\n"
     ]
    }
   ],
   "source": [
    "print(producto)"
   ]
  },
  {
   "cell_type": "code",
   "execution_count": null,
   "id": "5c8e81a1",
   "metadata": {},
   "outputs": [
    {
     "name": "stdout",
     "output_type": "stream",
     "text": [
      "raton\n"
     ]
    }
   ],
   "source": [
    "print(producto['nombre'])"
   ]
  },
  {
   "cell_type": "code",
   "execution_count": null,
   "id": "f1837e5c",
   "metadata": {},
   "outputs": [
    {
     "name": "stdout",
     "output_type": "stream",
     "text": [
      "Este producto no existe en el inventario. Pruebe con otro producto.\n"
     ]
    }
   ],
   "source": [
    "# quiero hacer asignacion directa de la cantidad actualizada(?)\n",
    "nueva_cantidad = int(input(\"Introduce la cantidad de stock que desea añadir, en númer positivo o quitar, con número en negativo.\"))\n",
    "encuentra_producto = \"ordenador\"\n",
    "\n",
    "#primero el nombre\n",
    "for nombre in inventario: #para saber si el nombre que hemos puesto está en nuestro diccionario \n",
    "    if producto['nombre'] == encuentra_producto: #quiero que sume si la cantidad es positiva o mayor q 0 y q reste de lo contrario\n",
    "        if nueva_cantidad > cantidad:\n",
    "            nueva_cantidad += producto['cantidad'] #sumar ok\n",
    "        elif nueva_cantidad < cantidad:\n",
    "            nueva_cantidad -= producto['cantidad'] # restar ok #actualizar(? con asignacion directa??/cambiar la reste de lugar?\n",
    "\n",
    "\n",
    "else:\n",
    "    print(\"Este producto no existe en el inventario. Pruebe con otro producto.\") # el mensaje no está ok\n",
    "\n",
    "# funciona(??? acuerdate del int para convertir string\n",
    "#\n"
   ]
  },
  {
   "cell_type": "code",
   "execution_count": null,
   "id": "7c55a17d",
   "metadata": {},
   "outputs": [],
   "source": [
    "def actualizar_stock(nombre, cantidad)"
   ]
  },
  {
   "cell_type": "code",
   "execution_count": null,
   "id": "2bad8709",
   "metadata": {},
   "outputs": [],
   "source": [
    "encuentra_producto = input(\"encuentra producto\") #falta crear def y añadir al ejer.tec ESTE SII\n",
    "nueva_cantidad = int(input(\"cantidad a valorar\"))\n",
    "\n",
    "for producto in inventario:\n",
    "    if producto['nombre'] == encuentra_producto: \n",
    "        if nueva_cantidad > cantidad: #revisar cantidad, no suma si la cantidad del prod es menor a la q queremos añadir\n",
    "                producto['cantidad'] += nueva_cantidad \n",
    "                print(f\"La cantidad añadida ha sido de {nueva_cantidad} más, actualmente hay {producto['cantidad']} en el inventario.\")\n",
    "\n",
    "        elif nueva_cantidad < cantidad:\n",
    "                producto['cantidad'] -= cantidad\n",
    "                print(f\"La cantidad añadida ha sido de {nueva_cantidad} menos, actualmente hay {cantidad['cantidad']} en el inventario.\")\n",
    "        \n",
    "        break\n",
    "            # antes del else, se me ha actualizado, de cantidad 2, más 3 de nueva cantidad a 5, ya no va \n",
    "            #yafunciona!!! ten cuidado con identar\n",
    "\n",
    "else:\n",
    "    print(\"Este producto no existe en el inventario. Pruebe con otro producto.\") "
   ]
  },
  {
   "cell_type": "code",
   "execution_count": null,
   "id": "168412cd",
   "metadata": {},
   "outputs": [
    {
     "name": "stdout",
     "output_type": "stream",
     "text": [
      "La cantidad añadida ha sido de 1 más, actualmente hay 4 en el inventario.\n"
     ]
    }
   ],
   "source": [
    "encuentra_producto = input(\"encuentra producto\") #falta crear def y añadir al ejer.tec ESTE SII\n",
    "nueva_cantidad = int(input(\"cantidad a valorar\"))\n",
    "\n",
    "for producto in inventario:\n",
    "    if producto['nombre'] == encuentra_producto: \n",
    "        if nueva_cantidad > 0: #revisar cantidad, no suma si la cantidad del prod es menor a la q queremos añadir, ara si\n",
    "                producto['cantidad'] += nueva_cantidad \n",
    "                print(f\"La cantidad añadida ha sido de {nueva_cantidad} más, actualmente hay {producto['cantidad']} en el inventario.\")\n",
    "\n",
    "        elif nueva_cantidad < 0: #si la cantidad es menor a 0 para restar,\n",
    "            if producto['cantidad'] >= 0: #si la cantidad que tenemos es mayor a 0 para tener stock si no no se puede\n",
    "                    producto['cantidad'] -= cantidad #se resta , y si no hay?? else?? por q resta 2(?? revisar mates\n",
    "                    print(f\"La cantidad añadida ha sido de {nueva_cantidad} menos, actualmente hay {producto['cantidad']} en el inventario.\")\n",
    "            else:\n",
    "                print(\"No hay sufiente stock para disminuir.\")\n",
    "        \n",
    "        break\n",
    "            # antes del else, se me ha actualizado, de cantidad 2, más 3 de nueva cantidad a 5, ya no va \n",
    "            #yafunciona!!! ten cuidado con identar\n",
    "\n",
    "else:\n",
    "    print(\"Este producto no existe en el inventario. Pruebe con otro producto.\") "
   ]
  },
  {
   "cell_type": "code",
   "execution_count": null,
   "id": "28f56475",
   "metadata": {},
   "outputs": [
    {
     "name": "stdout",
     "output_type": "stream",
     "text": [
      "<class 'dict'>\n"
     ]
    }
   ],
   "source": [
    "print(type(producto))"
   ]
  },
  {
   "cell_type": "code",
   "execution_count": null,
   "id": "8d96cf79",
   "metadata": {},
   "outputs": [
    {
     "name": "stdout",
     "output_type": "stream",
     "text": [
      "2\n"
     ]
    }
   ],
   "source": [
    "print(cantidad)"
   ]
  },
  {
   "cell_type": "code",
   "execution_count": null,
   "id": "466f56e5",
   "metadata": {},
   "outputs": [
    {
     "name": "stdout",
     "output_type": "stream",
     "text": [
      "<class 'int'>\n"
     ]
    }
   ],
   "source": [
    "print(type(cantidad))"
   ]
  },
  {
   "cell_type": "code",
   "execution_count": null,
   "id": "c85bae77",
   "metadata": {},
   "outputs": [
    {
     "name": "stdout",
     "output_type": "stream",
     "text": [
      "4\n"
     ]
    }
   ],
   "source": [
    "print(producto['cantidad'])"
   ]
  },
  {
   "cell_type": "code",
   "execution_count": null,
   "id": "913de876",
   "metadata": {},
   "outputs": [
    {
     "name": "stdout",
     "output_type": "stream",
     "text": [
      "<class 'int'>\n"
     ]
    }
   ],
   "source": [
    "print(type(producto['cantidad'])) # o sea q cantidad y prodcanti son int se pueden multiplicar (? ej.6 ??"
   ]
  },
  {
   "cell_type": "code",
   "execution_count": null,
   "id": "bbd08ee4",
   "metadata": {},
   "outputs": [],
   "source": [
    "def actualizar_stock(producto, cantidad):\n",
    "    encuentra_producto = input(\"encuentra producto\") #falta crear def y añadir al ejer.tec ESTE SII\n",
    "    nueva_cantidad = int(input(\"cantidad a valorar\"))\n",
    "\n",
    "    for producto in inventario:\n",
    "        if producto['nombre'] == encuentra_producto: \n",
    "            if nueva_cantidad > cantidad:\n",
    "                producto['cantidad'] += nueva_cantidad \n",
    "                print(f\"La cantidad añadida ha sido de {nueva_cantidad} más, actualmente hay {producto['cantidad']} en el inventario.\")\n",
    "\n",
    "            elif nueva_cantidad < cantidad:\n",
    "                producto['cantidad'] -= cantidad\n",
    "                print(f\"La cantidad añadida ha sido de {nueva_cantidad} menos, actualmente hay {cantidad['cantidad']} en el inventario.\")\n",
    "        \n",
    "            break\n",
    "            # antes del else, se me ha actualizado, de cantidad 2, más 3 de nueva cantidad a 5, ya no va \n",
    "            #yafunciona!!! ten cuidado con identar\n",
    "\n",
    "    else:\n",
    "        print(\"Este producto no existe en el inventario. Pruebe con otro producto.\") "
   ]
  },
  {
   "cell_type": "code",
   "execution_count": null,
   "id": "cccad30b",
   "metadata": {},
   "outputs": [],
   "source": [
    "actualizar_stock(\"ordenador\", 3)"
   ]
  },
  {
   "cell_type": "code",
   "execution_count": null,
   "id": "df42675d",
   "metadata": {},
   "outputs": [],
   "source": [
    "encuentra_producto: input(\"Escribe el nombre para valorar el stock.\")\n",
    "nueva_cantidad = int(input(\"cantidad a valorar\"))\n",
    "\n",
    "\n",
    "for producto in inventario:\n",
    "    if producto['nombre'] == encuentra_producto: \n",
    "        if nueva_cantidad > cantidad:\n",
    "            producto['cantidad'] += nueva_cantidad \n",
    "            print(f\"La cantidad {producto['cantidad']} ha sido actualizada a {nueva_cantidad} más.\")\n",
    "\n",
    "        elif nueva_cantidad < cantidad:\n",
    "            producto['cantidad'] -= cantidad\n",
    "            print(f\"La cantidad {producto['cantidad']} ha sido actualizada a {nueva_cantidad} menos.\")\n",
    "        \n",
    "        break\n",
    "            # se han añadido nueva cantidad, y se ha actualizado a productocantidad\n",
    "            \n",
    "            # antes del else, se me ha actualizado, de cantidad 2, más 3 de nueva cantidad a 5, ya no va \n",
    "\n",
    "else:\n",
    "    print(\"Este producto no existe en el inventario. Pruebe con otro producto.\") #esto tendria que ir fuera, para que no ejecute lo de antes"
   ]
  },
  {
   "cell_type": "code",
   "execution_count": null,
   "id": "2bfe0096",
   "metadata": {},
   "outputs": [
    {
     "name": "stdout",
     "output_type": "stream",
     "text": [
      "2\n"
     ]
    }
   ],
   "source": [
    "print(cantidad)"
   ]
  },
  {
   "cell_type": "code",
   "execution_count": null,
   "id": "0e4a94c7",
   "metadata": {},
   "outputs": [
    {
     "name": "stdout",
     "output_type": "stream",
     "text": [
      "[{'nombre': 'raton', 'precio': 15.0, 'cantidad': 4}]\n"
     ]
    }
   ],
   "source": [
    "print(inventario)"
   ]
  },
  {
   "cell_type": "code",
   "execution_count": null,
   "id": "2bb31799",
   "metadata": {},
   "outputs": [
    {
     "name": "stdout",
     "output_type": "stream",
     "text": [
      "{'nombre': 'raton', 'precio': 15.0, 'cantidad': 4}\n"
     ]
    }
   ],
   "source": [
    "print(producto)"
   ]
  },
  {
   "cell_type": "code",
   "execution_count": null,
   "id": "62dd9818",
   "metadata": {},
   "outputs": [
    {
     "name": "stdout",
     "output_type": "stream",
     "text": [
      "raton\n"
     ]
    }
   ],
   "source": [
    "print(nombre['nombre'])"
   ]
  },
  {
   "cell_type": "code",
   "execution_count": null,
   "id": "a6f3a528",
   "metadata": {},
   "outputs": [
    {
     "name": "stdout",
     "output_type": "stream",
     "text": [
      "2\n"
     ]
    }
   ],
   "source": [
    "print(cantidad)"
   ]
  },
  {
   "cell_type": "code",
   "execution_count": null,
   "id": "5b5ffc4d",
   "metadata": {},
   "outputs": [
    {
     "name": "stdout",
     "output_type": "stream",
     "text": [
      "{'nombre': 'raton', 'precio': 15.0, 'cantidad': 4}\n"
     ]
    }
   ],
   "source": [
    "print(producto)\n"
   ]
  },
  {
   "cell_type": "code",
   "execution_count": null,
   "id": "760c1498",
   "metadata": {},
   "outputs": [
    {
     "ename": "TypeError",
     "evalue": "'str' object does not support item assignment",
     "output_type": "error",
     "traceback": [
      "\u001b[1;31m---------------------------------------------------------------------------\u001b[0m",
      "\u001b[1;31mTypeError\u001b[0m                                 Traceback (most recent call last)",
      "Cell \u001b[1;32mIn[82], line 4\u001b[0m\n\u001b[0;32m      2\u001b[0m producto \u001b[38;5;241m=\u001b[39m \u001b[38;5;28minput\u001b[39m(\u001b[38;5;124m\"\u001b[39m\u001b[38;5;124melige un producto del inventario\u001b[39m\u001b[38;5;124m\"\u001b[39m)\n\u001b[0;32m      3\u001b[0m \u001b[38;5;66;03m# por asignacion directa???\u001b[39;00m\n\u001b[1;32m----> 4\u001b[0m \u001b[38;5;28;01mfor\u001b[39;00m producto[\u001b[38;5;124m'\u001b[39m\u001b[38;5;124mnombre\u001b[39m\u001b[38;5;124m'\u001b[39m] \u001b[38;5;129;01min\u001b[39;00m inventario:\n\u001b[0;32m      5\u001b[0m     \u001b[38;5;28;01mif\u001b[39;00m cantidad \u001b[38;5;129;01min\u001b[39;00m producto:\n\u001b[0;32m      6\u001b[0m         \u001b[38;5;28;01mif\u001b[39;00m cantidad_actualizar \u001b[38;5;241m>\u001b[39m \u001b[38;5;241m0\u001b[39m:\n",
      "\u001b[1;31mTypeError\u001b[0m: 'str' object does not support item assignment"
     ]
    }
   ],
   "source": [
    "cantidad_actualizar = int(input(\"Introduce la cantidad de stock que quieres actualizar. En positivo para sumar, en negativo para restar.\"))\n",
    "producto = input(\"elige un producto del inventario\")\n",
    "# por asignacion directa???\n",
    "for producto['nombre'] in inventario:\n",
    "    if cantidad in producto:\n",
    "        if cantidad_actualizar > 0:\n",
    "            cantidad['cantidad'] = cantidad_actualizar + cantidad['cantidad']\n",
    "        elif cantidad < 0:\n",
    "            cantidad['cantidad'] -= cantidad\n",
    "    \n",
    "        print(f\"La cantidad actualizada de {nombre} ha sido actualizada a {cantidad}\")\n",
    "\n",
    "else:\n",
    "        print(f\"El producto {nombre} no está en el inventario. Pruebe con otro.\")\n"
   ]
  },
  {
   "cell_type": "markdown",
   "id": "b6803bc3",
   "metadata": {},
   "source": [
    "eliminar_producto(self, nombre)\n",
    " : Elimina un producto del inventario por nombre. Debe\n",
    " recibir el nombre del producto como parámetro.\n",
    " Utiliza un bucle \n",
    "for\n",
    " para recorrer el inventario.\n",
    " Busca el producto por nombre.\n",
    " Elimina el producto del inventario si existe.\n",
    " Si el producto no esta en el inventario muestra un mensaje indicándolo.\n",
    " if productonombre == nombre\n",
    " .remove(')"
   ]
  },
  {
   "cell_type": "code",
   "execution_count": null,
   "id": "672a480c",
   "metadata": {},
   "outputs": [],
   "source": [
    "def eliminar_prod(producto):\n",
    "# en en el ejercicio funciona, aqui no se a q le he dado , remove para elegir, el .lower controla, implementar esto en el resto para futuros error\n",
    "\n",
    "    nombre = input(\"Introduce el producto a eliminar del inventario.\").lower()\n",
    "    for producto in inventario:\n",
    "        if producto['nombre'] == nombre:\n",
    "\n",
    "            inventario.remove(producto)\n",
    "            print(f\"El producto {producto['nombre']} ha sido eliminado. El inventario se ha actualizado.\")\n",
    "        break\n",
    "    else:\n",
    "        print(\"No aparece en el inventario\")"
   ]
  },
  {
   "cell_type": "code",
   "execution_count": null,
   "id": "dd7e4f01",
   "metadata": {},
   "outputs": [
    {
     "ename": "TypeError",
     "evalue": "string indices must be integers, not 'str'",
     "output_type": "error",
     "traceback": [
      "\u001b[1;31m---------------------------------------------------------------------------\u001b[0m",
      "\u001b[1;31mTypeError\u001b[0m                                 Traceback (most recent call last)",
      "Cell \u001b[1;32mIn[80], line 1\u001b[0m\n\u001b[1;32m----> 1\u001b[0m eliminar_prod(\u001b[38;5;124m\"\u001b[39m\u001b[38;5;124mraton\u001b[39m\u001b[38;5;124m\"\u001b[39m)\n",
      "Cell \u001b[1;32mIn[79], line 5\u001b[0m, in \u001b[0;36meliminar_prod\u001b[1;34m(producto)\u001b[0m\n\u001b[0;32m      3\u001b[0m nombre \u001b[38;5;241m=\u001b[39m \u001b[38;5;28minput\u001b[39m(\u001b[38;5;124m\"\u001b[39m\u001b[38;5;124mIntroduce el producto a eliminar del inventario.\u001b[39m\u001b[38;5;124m\"\u001b[39m)\u001b[38;5;241m.\u001b[39mlower()\n\u001b[0;32m      4\u001b[0m \u001b[38;5;28;01mfor\u001b[39;00m producto \u001b[38;5;129;01min\u001b[39;00m inventario:\n\u001b[1;32m----> 5\u001b[0m     \u001b[38;5;28;01mif\u001b[39;00m producto[\u001b[38;5;124m'\u001b[39m\u001b[38;5;124mnombre\u001b[39m\u001b[38;5;124m'\u001b[39m] \u001b[38;5;241m==\u001b[39m nombre:\n\u001b[0;32m      7\u001b[0m         inventario\u001b[38;5;241m.\u001b[39mremove(producto)\n\u001b[0;32m      8\u001b[0m         \u001b[38;5;28mprint\u001b[39m(\u001b[38;5;124mf\u001b[39m\u001b[38;5;124m\"\u001b[39m\u001b[38;5;124mEl producto \u001b[39m\u001b[38;5;132;01m{\u001b[39;00mproducto[\u001b[38;5;124m'\u001b[39m\u001b[38;5;124mnombre\u001b[39m\u001b[38;5;124m'\u001b[39m]\u001b[38;5;132;01m}\u001b[39;00m\u001b[38;5;124m ha sido eliminado. El inventario se ha actualizado.\u001b[39m\u001b[38;5;124m\"\u001b[39m)\n",
      "\u001b[1;31mTypeError\u001b[0m: string indices must be integers, not 'str'"
     ]
    }
   ],
   "source": [
    "eliminar_prod(\"raton\")"
   ]
  },
  {
   "cell_type": "code",
   "execution_count": null,
   "id": "0844a0a2",
   "metadata": {},
   "outputs": [],
   "source": [
    "def calcular_valor_inventario():"
   ]
  },
  {
   "cell_type": "markdown",
   "id": "55032bd3",
   "metadata": {},
   "source": [
    " \n",
    "calcular_valor_inventario(self)\n",
    " : Calcula y muestra el valor total del inventario.\n",
    " Utiliza un bucle for para calcular el valor total del inventario.\n",
    " Itera a través del inventario y suma el valor de cada producto (precio x cantidad). Es decir,\n",
    " calcula el valor total del inventario. Ejemplo:\n",
    " #valor_total = valor_ordenador + valor_raton...\n",
    " valor_ordenador = precio * cantidad\n",
    " "
   ]
  },
  {
   "cell_type": "code",
   "execution_count": null,
   "id": "cd9db833",
   "metadata": {},
   "outputs": [
    {
     "data": {
      "text/plain": [
       "dict_values(['raton', 15.0, 4])"
      ]
     },
     "execution_count": 179,
     "metadata": {},
     "output_type": "execute_result"
    }
   ],
   "source": [
    "producto.values()"
   ]
  },
  {
   "cell_type": "code",
   "execution_count": null,
   "id": "aa74fb6f",
   "metadata": {},
   "outputs": [
    {
     "ename": "NameError",
     "evalue": "name 'producto' is not defined",
     "output_type": "error",
     "traceback": [
      "\u001b[1;31m---------------------------------------------------------------------------\u001b[0m",
      "\u001b[1;31mNameError\u001b[0m                                 Traceback (most recent call last)",
      "Cell \u001b[1;32mIn[58], line 1\u001b[0m\n\u001b[1;32m----> 1\u001b[0m miluista \u001b[38;5;241m=\u001b[39m \u001b[38;5;28mlist\u001b[39m(producto\u001b[38;5;241m.\u001b[39mvalues())\n",
      "\u001b[1;31mNameError\u001b[0m: name 'producto' is not defined"
     ]
    }
   ],
   "source": [
    "miluista = list(producto.values()) #lo buscamos por indice(??"
   ]
  },
  {
   "cell_type": "code",
   "execution_count": null,
   "id": "5f9b30f5",
   "metadata": {},
   "outputs": [
    {
     "data": {
      "text/plain": [
       "['nombre', 'precio', 'cantidad']"
      ]
     },
     "execution_count": 181,
     "metadata": {},
     "output_type": "execute_result"
    }
   ],
   "source": [
    "list(producto.keys())"
   ]
  },
  {
   "cell_type": "code",
   "execution_count": null,
   "id": "7481d78a",
   "metadata": {},
   "outputs": [
    {
     "ename": "TypeError",
     "evalue": "unsupported operand type(s) for *: 'set' and 'set'",
     "output_type": "error",
     "traceback": [
      "\u001b[1;31m---------------------------------------------------------------------------\u001b[0m",
      "\u001b[1;31mTypeError\u001b[0m                                 Traceback (most recent call last)",
      "Cell \u001b[1;32mIn[182], line 1\u001b[0m\n\u001b[1;32m----> 1\u001b[0m valor_total \u001b[38;5;241m=\u001b[39m({producto[\u001b[38;5;124m'\u001b[39m\u001b[38;5;124mprecio\u001b[39m\u001b[38;5;124m'\u001b[39m]} \u001b[38;5;241m*\u001b[39m {producto[\u001b[38;5;124m'\u001b[39m\u001b[38;5;124mcantidad\u001b[39m\u001b[38;5;124m'\u001b[39m]})\n",
      "\u001b[1;31mTypeError\u001b[0m: unsupported operand type(s) for *: 'set' and 'set'"
     ]
    }
   ],
   "source": [
    "valor_total =({producto['precio']} * {producto['cantidad']}) #la idea es que me multiple esto de mi dic, evidente* no se puedo\n",
    "# posibilidades: cambiar las llaves, corchetes?? siguiente prueba:"
   ]
  },
  {
   "cell_type": "code",
   "execution_count": null,
   "id": "fd06588c",
   "metadata": {},
   "outputs": [
    {
     "ename": "TypeError",
     "evalue": "'float' object is not iterable",
     "output_type": "error",
     "traceback": [
      "\u001b[1;31m---------------------------------------------------------------------------\u001b[0m",
      "\u001b[1;31mTypeError\u001b[0m                                 Traceback (most recent call last)",
      "Cell \u001b[1;32mIn[132], line 1\u001b[0m\n\u001b[1;32m----> 1\u001b[0m valor_total\u001b[38;5;241m=\u001b[39m\u001b[38;5;28msum\u001b[39m(producto[\u001b[38;5;124m'\u001b[39m\u001b[38;5;124mprecio\u001b[39m\u001b[38;5;124m'\u001b[39m] \u001b[38;5;241m*\u001b[39m producto[\u001b[38;5;124m'\u001b[39m\u001b[38;5;124mcantidad\u001b[39m\u001b[38;5;124m'\u001b[39m]) \u001b[38;5;66;03m#solo tengo una cosa, pero debería sumarlo todo, so sum antes(?\u001b[39;00m\n\u001b[0;32m      2\u001b[0m \u001b[38;5;28mprint\u001b[39m(valor_total)\n",
      "\u001b[1;31mTypeError\u001b[0m: 'float' object is not iterable"
     ]
    }
   ],
   "source": [
    "valor_total=sum(producto['precio'] * producto['cantidad']) #solo tengo una cosa, pero debería sumarlo todo, so sum antes(?\n",
    "print(valor_total)"
   ]
  },
  {
   "cell_type": "code",
   "execution_count": null,
   "id": "c93d5d42",
   "metadata": {},
   "outputs": [
    {
     "name": "stdout",
     "output_type": "stream",
     "text": [
      "60.0\n"
     ]
    }
   ],
   "source": [
    "valor_total = producto['precio'] * producto['cantidad'] #sin suma si , es lo mismo q con suma y resta de antes\n",
    "print(valor_total)"
   ]
  },
  {
   "cell_type": "code",
   "execution_count": null,
   "id": "743bdf6b",
   "metadata": {},
   "outputs": [
    {
     "name": "stdout",
     "output_type": "stream",
     "text": [
      "El valor total del inventario es 60.0\n"
     ]
    }
   ],
   "source": [
    "#bucle for para todos los elementos y si remove nombre del inventario??\n",
    "# otra vez, quiero sumar mis precio*cantidad de cada producto, hay q utilizar for, la multiplicacion d 1 bien,creo\n",
    "# multiplicacion de varios x\n",
    "# suma de todos x\n",
    "# def y adaptarlo a la clase x\n",
    "\n",
    "for producto in inventario:\n",
    "\n",
    "    if producto['nombre']== nombre:\n",
    "        #si pongo lo mismo que antes(? así si coincide nombre, continuará con nuestras mates,hope\n",
    "        valor_total = producto['precio'] * producto['cantidad'] #la multiplicación tiene sentido y funciona\n",
    "        print(f\"El valor total del inventario es {valor_total}\")\n",
    "\n",
    "        break # para salir una vez encuentre y sume todo\n",
    "   \n",
    "    else:\n",
    "        print(\"No está en el inventario.\")\n",
    "\n",
    "#falta sumar todo pero aqui no puedo F\n",
    "    "
   ]
  },
  {
   "cell_type": "code",
   "execution_count": null,
   "id": "51f61bd1",
   "metadata": {},
   "outputs": [
    {
     "data": {
      "text/plain": [
       "3"
      ]
     },
     "execution_count": 198,
     "metadata": {},
     "output_type": "execute_result"
    }
   ],
   "source": [
    "len(inventario)"
   ]
  },
  {
   "cell_type": "code",
   "execution_count": null,
   "id": "25e2f11d",
   "metadata": {},
   "outputs": [],
   "source": [
    "# la suma seria una cosa como : valor_total_inventario = sum(valor total) de cada uno de los productos\n",
    " \n",
    "    for producto in inventario:\n",
    "        valor = producto['precio'] * producto['cantidad']\n",
    "    \n",
    "    valor_total = sum(valor) "
   ]
  },
  {
   "cell_type": "code",
   "execution_count": null,
   "id": "3e5084c6",
   "metadata": {},
   "outputs": [
    {
     "name": "stdout",
     "output_type": "stream",
     "text": [
      "100.0\n",
      "1\n"
     ]
    }
   ],
   "source": [
    "print(producto['precio'])\n",
    "print(producto['cantidad'])"
   ]
  },
  {
   "cell_type": "code",
   "execution_count": null,
   "id": "7f2a5f7c",
   "metadata": {},
   "outputs": [
    {
     "name": "stdout",
     "output_type": "stream",
     "text": [
      "2000\n",
      "15000\n",
      "100.0\n",
      "17100.0\n"
     ]
    }
   ],
   "source": [
    "valor_total = 0 # si el valor toral es 0, y el bucle for pasa por todos los productos p*c, luego si eso lo sumo a 0, me da ???\n",
    "\n",
    "for producto in inventario:\n",
    "        valor = producto['precio'] * producto['cantidad']\n",
    "        print(valor)\n",
    "\n",
    "        valor_total += valor\n",
    "\n",
    "print(valor_total)"
   ]
  },
  {
   "cell_type": "code",
   "execution_count": null,
   "id": "c670deb1",
   "metadata": {},
   "outputs": [
    {
     "ename": "TypeError",
     "evalue": "int() argument must be a string, a bytes-like object or a real number, not 'generator'",
     "output_type": "error",
     "traceback": [
      "\u001b[1;31m---------------------------------------------------------------------------\u001b[0m",
      "\u001b[1;31mTypeError\u001b[0m                                 Traceback (most recent call last)",
      "Cell \u001b[1;32mIn[204], line 4\u001b[0m\n\u001b[0;32m      1\u001b[0m \u001b[38;5;28;01mfor\u001b[39;00m producto \u001b[38;5;129;01min\u001b[39;00m inventario: \u001b[38;5;66;03m# si esto pasa por todos los productos, coge la multiplicacion de todo?\u001b[39;00m\n\u001b[0;32m      2\u001b[0m     \u001b[38;5;66;03m#entonces luego puedo sumar???\u001b[39;00m\n\u001b[0;32m      3\u001b[0m     valor \u001b[38;5;241m=\u001b[39m (producto[\u001b[38;5;124m'\u001b[39m\u001b[38;5;124mprecio\u001b[39m\u001b[38;5;124m'\u001b[39m] \u001b[38;5;241m*\u001b[39m producto[\u001b[38;5;124m'\u001b[39m\u001b[38;5;124mcantidad\u001b[39m\u001b[38;5;124m'\u001b[39m] \u001b[38;5;28;01mfor\u001b[39;00m producto \u001b[38;5;129;01min\u001b[39;00m inventario)\n\u001b[1;32m----> 4\u001b[0m     valor_total \u001b[38;5;241m=\u001b[39m \u001b[38;5;28msum\u001b[39m(\u001b[38;5;28mint\u001b[39m(valor))\n\u001b[0;32m      6\u001b[0m     valor_total \u001b[38;5;241m+\u001b[39m\u001b[38;5;241m=\u001b[39m valor\n\u001b[0;32m      7\u001b[0m     \u001b[38;5;28mprint\u001b[39m(valor_total)\n",
      "\u001b[1;31mTypeError\u001b[0m: int() argument must be a string, a bytes-like object or a real number, not 'generator'"
     ]
    }
   ],
   "source": [
    "for producto in inventario: # si esto pasa por todos los productos, coge la multiplicacion de todo?\n",
    "    #entonces luego puedo sumar??? #listcomprehension no entiendo next\n",
    "    valor = (producto['precio'] * producto['cantidad'] for producto in inventario)\n",
    "    valor_total = sum(int(valor)) #cuanto es valor total???\n",
    "\n",
    "    valor_total += valor #no tiene sentido sumar y volver a sumar\n",
    "    \n",
    "    print(valor_total)"
   ]
  },
  {
   "cell_type": "code",
   "execution_count": null,
   "id": "c9df82b7",
   "metadata": {},
   "outputs": [
    {
     "name": "stdout",
     "output_type": "stream",
     "text": [
      "[{'nombre': {...}, 'precio': 15.0, 'cantidad': 4}]\n"
     ]
    }
   ],
   "source": [
    "print(inventario)"
   ]
  },
  {
   "cell_type": "code",
   "execution_count": null,
   "id": "95d44322",
   "metadata": {},
   "outputs": [],
   "source": [
    "valor_raton = list(producto.values())\n"
   ]
  },
  {
   "cell_type": "code",
   "execution_count": null,
   "id": "a00568af",
   "metadata": {},
   "outputs": [
    {
     "data": {
      "text/plain": [
       "15.0"
      ]
     },
     "execution_count": 187,
     "metadata": {},
     "output_type": "execute_result"
    }
   ],
   "source": [
    "valor_raton[1]"
   ]
  },
  {
   "cell_type": "code",
   "execution_count": null,
   "id": "fea3b744",
   "metadata": {},
   "outputs": [
    {
     "data": {
      "text/plain": [
       "2"
      ]
     },
     "execution_count": 125,
     "metadata": {},
     "output_type": "execute_result"
    }
   ],
   "source": [
    "valor_raton[2]"
   ]
  },
  {
   "cell_type": "code",
   "execution_count": null,
   "id": "6dcbc73d",
   "metadata": {},
   "outputs": [
    {
     "data": {
      "text/plain": [
       "list"
      ]
     },
     "execution_count": 200,
     "metadata": {},
     "output_type": "execute_result"
    }
   ],
   "source": [
    "type(inventario)"
   ]
  },
  {
   "cell_type": "code",
   "execution_count": null,
   "id": "9e77cdca",
   "metadata": {},
   "outputs": [],
   "source": [
    "#bonus\n",
    "class TiendaOnline:\n",
    "\n",
    "    def __init__(self):\n",
    "        self.clientes = {}\n",
    "\n",
    "\n",
    "\n",
    "    def agregar_clientes(self, nombre, email,):\n",
    "        \n",
    "        nombre = nombre.capitalize()\n",
    "\n",
    "        if nombre not in self.clientes:\n",
    "            self.clientes['nombre'] = {\"nombre\": nombre, \"email\": email, \"compras\": []} #compras es una lista vacía en el ejemplo\n",
    "            print(f\"El cliente {nombre} ha sido añadido con el correo: {email}.\")\n",
    "\n",
    "    def ver_clientes(self):\n",
    "        for nombre in self.clientes:\n",
    "            # diccionario dentro de diccionario, nombre: values el diccionario de email y compras, neesita otra variable??\n",
    "            print(f\" El cliente {nombre}, con correo {nombre['email']}.\")"
   ]
  },
  {
   "cell_type": "code",
   "execution_count": null,
   "id": "4ccc25e6",
   "metadata": {},
   "outputs": [],
   "source": [
    "mitienda = TiendaOnline()"
   ]
  },
  {
   "cell_type": "code",
   "execution_count": null,
   "id": "f81e77b1",
   "metadata": {},
   "outputs": [
    {
     "name": "stdout",
     "output_type": "stream",
     "text": [
      "El cliente Juan ha sido añadido con el correo: juan@gmail.com.\n"
     ]
    }
   ],
   "source": [
    "mitienda.agregar_clientes(\"Juan\", \"juan@gmail.com\")"
   ]
  },
  {
   "cell_type": "code",
   "execution_count": null,
   "id": "328fac8d",
   "metadata": {},
   "outputs": [
    {
     "name": "stdout",
     "output_type": "stream",
     "text": [
      "El cliente Maria ha sido añadido con el correo: mariag22@gmail.com.\n"
     ]
    }
   ],
   "source": [
    "mitienda.agregar_clientes(\"maria\", \"mariag22@gmail.com\")"
   ]
  },
  {
   "cell_type": "code",
   "execution_count": null,
   "id": "bdaee82c",
   "metadata": {},
   "outputs": [
    {
     "ename": "TypeError",
     "evalue": "string indices must be integers, not 'str'",
     "output_type": "error",
     "traceback": [
      "\u001b[1;31m---------------------------------------------------------------------------\u001b[0m",
      "\u001b[1;31mTypeError\u001b[0m                                 Traceback (most recent call last)",
      "Cell \u001b[1;32mIn[57], line 1\u001b[0m\n\u001b[1;32m----> 1\u001b[0m mitienda\u001b[38;5;241m.\u001b[39mver_clientes()\n",
      "Cell \u001b[1;32mIn[53], line 20\u001b[0m, in \u001b[0;36mTiendaOnline.ver_clientes\u001b[1;34m(self)\u001b[0m\n\u001b[0;32m     17\u001b[0m \u001b[38;5;28;01mdef\u001b[39;00m \u001b[38;5;21mver_clientes\u001b[39m(\u001b[38;5;28mself\u001b[39m):\n\u001b[0;32m     18\u001b[0m     \u001b[38;5;28;01mfor\u001b[39;00m nombre \u001b[38;5;129;01min\u001b[39;00m \u001b[38;5;28mself\u001b[39m\u001b[38;5;241m.\u001b[39mclientes:\n\u001b[1;32m---> 20\u001b[0m         \u001b[38;5;28mprint\u001b[39m(\u001b[38;5;124mf\u001b[39m\u001b[38;5;124m\"\u001b[39m\u001b[38;5;124m El cliente \u001b[39m\u001b[38;5;132;01m{\u001b[39;00mnombre[\u001b[38;5;124m'\u001b[39m\u001b[38;5;124mnombre\u001b[39m\u001b[38;5;124m'\u001b[39m]\u001b[38;5;132;01m}\u001b[39;00m\u001b[38;5;124m, con correo \u001b[39m\u001b[38;5;132;01m{\u001b[39;00mnombre[\u001b[38;5;124m'\u001b[39m\u001b[38;5;124memail\u001b[39m\u001b[38;5;124m'\u001b[39m]\u001b[38;5;132;01m}\u001b[39;00m\u001b[38;5;124m.\u001b[39m\u001b[38;5;124m\"\u001b[39m)\n",
      "\u001b[1;31mTypeError\u001b[0m: string indices must be integers, not 'str'"
     ]
    }
   ],
   "source": [
    "mitienda.ver_clientes()"
   ]
  }
 ],
 "metadata": {
  "kernelspec": {
   "display_name": "base",
   "language": "python",
   "name": "python3"
  },
  "language_info": {
   "codemirror_mode": {
    "name": "ipython",
    "version": 3
   },
   "file_extension": ".py",
   "mimetype": "text/x-python",
   "name": "python",
   "nbconvert_exporter": "python",
   "pygments_lexer": "ipython3",
   "version": "3.12.7"
  }
 },
 "nbformat": 4,
 "nbformat_minor": 5
}
